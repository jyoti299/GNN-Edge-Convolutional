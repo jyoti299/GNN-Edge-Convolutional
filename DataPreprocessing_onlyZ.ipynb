{
 "cells": [
  {
   "cell_type": "code",
   "execution_count": 1,
   "id": "888b6b6f",
   "metadata": {},
   "outputs": [
    {
     "name": "stdout",
     "output_type": "stream",
     "text": [
      "The scikit-learn version is 1.2.2.\n",
      "Python version\n",
      "3.9.12 (main, Jul 11 2023, 14:37:47) \n",
      "[GCC 11.3.0]\n",
      "Version info.\n",
      "sys.version_info(major=3, minor=9, micro=12, releaselevel='final', serial=0)\n"
     ]
    }
   ],
   "source": [
    "import sys\n",
    "#print(sys.path)\n",
    "sys.path.insert(0, '/eos/user/j/jbabbar/.local/lib/python3.9/site-packages')\n",
    "\n",
    "import sklearn\n",
    "print('The scikit-learn version is {}.'.format(sklearn.__version__))\n",
    "print(\"Python version\")\n",
    "print (sys.version)\n",
    "print(\"Version info.\")\n",
    "print (sys.version_info)"
   ]
  },
  {
   "cell_type": "code",
   "execution_count": 2,
   "id": "2b37a06a",
   "metadata": {},
   "outputs": [],
   "source": [
    "#from code import utils\n",
    "import importlib\n",
    "import utils_ip\n",
    "import matplotlib.pyplot as plt\n",
    "import numpy as np\n",
    "import torch\n",
    "from torch import nn\n",
    "import torch.nn.functional as F\n",
    "from torch_geometric.data import Data\n",
    "from torch_geometric.loader import DataLoader\n",
    "import torch_geometric as pyg\n",
    "from tqdm import tqdm\n",
    "importlib.reload(utils_ip)\n",
    "#print('PWD', sys.path)\n",
    "#print(utils.__file__)\n",
    "%matplotlib inline"
   ]
  },
  {
   "cell_type": "code",
   "execution_count": 34,
   "id": "a00d8ede",
   "metadata": {
    "scrolled": true
   },
   "outputs": [
    {
     "name": "stdout",
     "output_type": "stream",
     "text": [
      "Number of files: 1\n",
      "input folder /eos/user/j/jbabbar/SWAN_projects/files/check/  space  ./dataset_check/\n",
      "input folder /eos/user/j/jbabbar/SWAN_projects/files/check/  space  ./dataset_check/\n",
      "ifile /eos/user/j/jbabbar/SWAN_projects/files/check/output_ntuple_TTbarPU200.root\n",
      "\n",
      "Processing file /eos/user/j/jbabbar/SWAN_projects/files/check/output_ntuple_TTbarPU200.root \n",
      "key GNNtree_3601;1\n",
      "track_data [... 9.57, 30.4, 33.1, 5.94, 28.2, 13.7, 9.52, 16.3, 7.48, 80.1, 76.3, 131, 44.7]}]\n",
      "0_0 : Have [3389] tracks in the file\n",
      "number of tracks [3389]\n",
      "0_0 : Got the track properties\n",
      "Building the graph\n",
      "n_tracks 3389\n",
      "Sizes: 3389 3389 3389\n"
     ]
    },
    {
     "name": "stderr",
     "output_type": "stream",
     "text": [
      "100%|█████████▉| 3388/3389 [00:01<00:00, 2997.43it/s]\n"
     ]
    },
    {
     "name": "stdout",
     "output_type": "stream",
     "text": [
      "1\n",
      "key GNNtree_3602;1\n",
      "track_data [... 12.6, 28.3, 33.4, 17.4, 3.08, 20.6, 39.4, 71.3, 57.2, 399, 42.4, 42.4, 31.9]}]\n",
      "0_1 : Have [3947] tracks in the file\n",
      "number of tracks [3947]\n",
      "0_1 : Got the track properties\n",
      "Building the graph\n",
      "n_tracks 3947\n",
      "Sizes: 3947 3947 3947\n"
     ]
    },
    {
     "name": "stderr",
     "output_type": "stream",
     "text": [
      "100%|█████████▉| 3946/3947 [00:01<00:00, 3173.06it/s]\n"
     ]
    },
    {
     "name": "stdout",
     "output_type": "stream",
     "text": [
      "2\n",
      "key GNNtree_3603;1\n",
      "track_data [... 11, 37.9, 39.1, 59.6, 18.9, 91.2, 6.07, 35.4, 27.6, 19.2, 6.81, 95.8, 33.7]}]\n",
      "0_2 : Have [3389] tracks in the file\n",
      "number of tracks [3389]\n",
      "0_2 : Got the track properties\n",
      "Building the graph\n",
      "n_tracks 3389\n",
      "Sizes: 3389 3389 3389\n"
     ]
    },
    {
     "name": "stderr",
     "output_type": "stream",
     "text": [
      "100%|█████████▉| 3388/3389 [00:00<00:00, 4081.70it/s]\n"
     ]
    },
    {
     "name": "stdout",
     "output_type": "stream",
     "text": [
      "3\n",
      "key GNNtree_3605;1\n",
      "track_data [... 7.85, 3.82, 23, 18.2, 8.61, 67, 43.7, 10.1, 61.8, 63.4, 36.9, 85.3, 81.4]}]\n",
      "0_3 : Have [3835] tracks in the file\n",
      "number of tracks [3835]\n",
      "0_3 : Got the track properties\n",
      "Building the graph\n",
      "n_tracks 3835\n",
      "Sizes: 3835 3835 3835\n"
     ]
    },
    {
     "name": "stderr",
     "output_type": "stream",
     "text": [
      "100%|█████████▉| 3834/3835 [00:01<00:00, 2912.78it/s]\n"
     ]
    },
    {
     "name": "stdout",
     "output_type": "stream",
     "text": [
      "4\n",
      "key GNNtree_3604;1\n",
      "track_data [... 24.1, 8.44, 48.7, 15.3, 19.5, 14.1, 6.04, 13.6, 7.55, 55.8, 17.9, 42.8]}]\n",
      "0_4 : Have [3617] tracks in the file\n",
      "number of tracks [3617]\n",
      "0_4 : Got the track properties\n",
      "Building the graph\n",
      "n_tracks 3617\n",
      "Sizes: 3617 3617 3617\n"
     ]
    },
    {
     "name": "stderr",
     "output_type": "stream",
     "text": [
      "100%|█████████▉| 3616/3617 [00:01<00:00, 2923.94it/s]\n"
     ]
    },
    {
     "name": "stdout",
     "output_type": "stream",
     "text": [
      "5\n",
      "key GNNtree_3606;1\n",
      "track_data [... 20.7, 26.9, 30.3, 103, 16.4, 5.52, 33.2, 5.62, 28.1, 12.8, 89.6, 129, 43.6]}]\n",
      "0_5 : Have [3267] tracks in the file\n",
      "number of tracks [3267]\n",
      "0_5 : Got the track properties\n",
      "Building the graph\n",
      "n_tracks 3267\n",
      "Sizes: 3267 3267 3267\n"
     ]
    },
    {
     "name": "stderr",
     "output_type": "stream",
     "text": [
      "100%|█████████▉| 3266/3267 [00:01<00:00, 2972.41it/s]\n"
     ]
    },
    {
     "name": "stdout",
     "output_type": "stream",
     "text": [
      "6\n",
      "key GNNtree_3608;1\n",
      "track_data [... 12.7, 7.96, 5.54, 15.3, 9.83, 67.7, 39.6, 10.9, 28.8, 10.4, 10.3, 160, 11.4]}]\n",
      "0_6 : Have [3421] tracks in the file\n",
      "number of tracks [3421]\n",
      "0_6 : Got the track properties\n",
      "Building the graph\n",
      "n_tracks 3421\n",
      "Sizes: 3421 3421 3421\n"
     ]
    },
    {
     "name": "stderr",
     "output_type": "stream",
     "text": [
      "100%|█████████▉| 3420/3421 [00:01<00:00, 3247.58it/s]\n"
     ]
    },
    {
     "name": "stdout",
     "output_type": "stream",
     "text": [
      "7\n",
      "key GNNtree_3607;1\n",
      "track_data [... 23, 32.9, 10.6, 14.9, 31.9, 23.9, 35, 15.9, 61, 22.9, 43.8, 60.6, 44.1]}]\n",
      "0_7 : Have [4297] tracks in the file\n",
      "number of tracks [4297]\n",
      "0_7 : Got the track properties\n",
      "Building the graph\n",
      "n_tracks 4297\n",
      "Sizes: 4297 4297 4297\n"
     ]
    },
    {
     "name": "stderr",
     "output_type": "stream",
     "text": [
      "100%|█████████▉| 4296/4297 [00:01<00:00, 2701.27it/s]\n"
     ]
    },
    {
     "name": "stdout",
     "output_type": "stream",
     "text": [
      "8\n",
      "key GNNtree_3609;1\n",
      "track_data [... 48.3, 32, 16.4, 17.1, 9.59, 10.6, 16.4, 7.77, 11.6, 12.3, 19.3, 23.8, 51.7]}]\n",
      "0_8 : Have [3108] tracks in the file\n",
      "number of tracks [3108]\n",
      "0_8 : Got the track properties\n",
      "Building the graph\n",
      "n_tracks 3108\n",
      "Sizes: 3108 3108 3108\n"
     ]
    },
    {
     "name": "stderr",
     "output_type": "stream",
     "text": [
      "100%|█████████▉| 3107/3108 [00:00<00:00, 3710.06it/s]\n"
     ]
    },
    {
     "name": "stdout",
     "output_type": "stream",
     "text": [
      "9\n",
      "key GNNtree_3611;1\n",
      "track_data [... 5.54, 15.4, 23.3, 21.2, 80.6, 98, 114, 39.3, 48.7, 55.8, 39.8, 48.5, 110]}]\n",
      "0_9 : Have [3184] tracks in the file\n",
      "number of tracks [3184]\n",
      "0_9 : Got the track properties\n",
      "Building the graph\n",
      "n_tracks 3184\n",
      "Sizes: 3184 3184 3184\n"
     ]
    },
    {
     "name": "stderr",
     "output_type": "stream",
     "text": [
      "100%|█████████▉| 3183/3184 [00:01<00:00, 2738.20it/s]\n"
     ]
    },
    {
     "name": "stdout",
     "output_type": "stream",
     "text": [
      "10\n",
      "key GNNtree_3610;1\n",
      "track_data [... 123, 39.1, 9.23, 2.36, 29.2, 24.7, 23.2, 8.81, 51.3, 18.9, 53.8, 49.1, 43.1]}]\n",
      "0_10 : Have [3606] tracks in the file\n",
      "number of tracks [3606]\n",
      "0_10 : Got the track properties\n",
      "Building the graph\n",
      "n_tracks 3606\n",
      "Sizes: 3606 3606 3606\n"
     ]
    },
    {
     "name": "stderr",
     "output_type": "stream",
     "text": [
      "100%|█████████▉| 3605/3606 [00:01<00:00, 3085.08it/s]\n"
     ]
    },
    {
     "name": "stdout",
     "output_type": "stream",
     "text": [
      "11\n",
      "t = 1.471924066543579 ... Saving the pickle data for 0_10\n",
      "loading error 1\n",
      "loading error 2\n",
      "filennaame  ./dataset_check/0_10_edge_features.pkl\n",
      "key GNNtree_3614;1\n",
      "track_data [... 16.1, 44.1, 1.25, 13.3, 29.4, 28, 9.22, 30.7, 64, 69.1, 43.9, 80.7, 31.6]}]\n",
      "0_11 : Have [2670] tracks in the file\n",
      "number of tracks [2670]\n",
      "0_11 : Got the track properties\n",
      "Building the graph\n",
      "n_tracks 2670\n",
      "Sizes: 2670 2670 2670\n"
     ]
    },
    {
     "name": "stderr",
     "output_type": "stream",
     "text": [
      "100%|█████████▉| 2669/2670 [00:00<00:00, 4201.25it/s]\n"
     ]
    },
    {
     "name": "stdout",
     "output_type": "stream",
     "text": [
      "1\n",
      "key GNNtree_3612;1\n",
      "track_data [... 7.74, 7.43, 11.1, 43.7, 16.4, 16.7, 14.2, 68.4, 53.8, 26.6, 81.4, 21.1]}]\n",
      "0_12 : Have [3628] tracks in the file\n",
      "number of tracks [3628]\n",
      "0_12 : Got the track properties\n",
      "Building the graph\n",
      "n_tracks 3628\n",
      "Sizes: 3628 3628 3628\n"
     ]
    },
    {
     "name": "stderr",
     "output_type": "stream",
     "text": [
      "100%|█████████▉| 3627/3628 [00:01<00:00, 2795.88it/s]\n"
     ]
    },
    {
     "name": "stdout",
     "output_type": "stream",
     "text": [
      "2\n",
      "key GNNtree_3613;1\n",
      "track_data [... 21.4, 51.7, 42.5, 31, 53.2, 17.2, 18.5, 11.6, 188, 67.8, 92.3, 40.5, 118]}]\n",
      "0_13 : Have [3050] tracks in the file\n",
      "number of tracks [3050]\n",
      "0_13 : Got the track properties\n",
      "Building the graph\n",
      "n_tracks 3050\n",
      "Sizes: 3049 3049 3049\n"
     ]
    },
    {
     "name": "stderr",
     "output_type": "stream",
     "text": [
      "100%|█████████▉| 3048/3049 [00:00<00:00, 3209.70it/s]\n"
     ]
    },
    {
     "name": "stdout",
     "output_type": "stream",
     "text": [
      "3\n",
      "key GNNtree_3615;1\n",
      "track_data [... 15.4, 38.4, 26, 13.9, 7.78, 18.9, 24.6, 27.1, 36.1, 166, 42.2, 44.8, 75.2]}]\n",
      "0_14 : Have [3679] tracks in the file\n",
      "number of tracks [3679]\n",
      "0_14 : Got the track properties\n",
      "Building the graph\n",
      "n_tracks 3679\n",
      "Sizes: 3679 3679 3679\n"
     ]
    },
    {
     "name": "stderr",
     "output_type": "stream",
     "text": [
      "100%|█████████▉| 3678/3679 [00:01<00:00, 2729.63it/s]\n"
     ]
    },
    {
     "name": "stdout",
     "output_type": "stream",
     "text": [
      "4\n",
      "key GNNtree_3616;1\n",
      "track_data [... 13.1, 26.3, 45, 59.7, 68.6, 121, 62.7, 90.3, 77.5, 58.7, 190, 34.4, 63]}]\n",
      "0_15 : Have [3187] tracks in the file\n",
      "number of tracks [3187]\n",
      "0_15 : Got the track properties\n",
      "Building the graph\n",
      "n_tracks 3187\n",
      "Sizes: 3187 3187 3187\n"
     ]
    },
    {
     "name": "stderr",
     "output_type": "stream",
     "text": [
      "100%|█████████▉| 3186/3187 [00:00<00:00, 4154.03it/s]\n"
     ]
    },
    {
     "name": "stdout",
     "output_type": "stream",
     "text": [
      "5\n",
      "key GNNtree_3617;1\n",
      "track_data [... 16, 19.2, 6.54, 19.6, 1.61, 35.3, 50.9, 21.3, 37.7, 49, 101, 47.5, 82.5]}]\n",
      "0_16 : Have [3199] tracks in the file\n",
      "number of tracks [3199]\n",
      "0_16 : Got the track properties\n",
      "Building the graph\n",
      "n_tracks 3199\n",
      "Sizes: 3199 3199 3199\n"
     ]
    },
    {
     "name": "stderr",
     "output_type": "stream",
     "text": [
      "100%|█████████▉| 3198/3199 [00:00<00:00, 3409.33it/s]\n"
     ]
    },
    {
     "name": "stdout",
     "output_type": "stream",
     "text": [
      "6\n",
      "key GNNtree_3619;1\n",
      "track_data [... 21.2, 14.7, 18.6, 7, 102, 11.1, 68.2, 35.5, 47.6, 5.61, 80.6, 36.4, 39.5]}]\n",
      "0_17 : Have [3914] tracks in the file\n",
      "number of tracks [3914]\n",
      "0_17 : Got the track properties\n",
      "Building the graph\n",
      "n_tracks 3914\n",
      "Sizes: 3914 3914 3914\n"
     ]
    },
    {
     "name": "stderr",
     "output_type": "stream",
     "text": [
      "100%|█████████▉| 3913/3914 [00:01<00:00, 2968.24it/s]\n"
     ]
    },
    {
     "name": "stdout",
     "output_type": "stream",
     "text": [
      "7\n",
      "key GNNtree_3620;1\n",
      "track_data [... 24.1, 35.9, 18, 16.6, 35.7, 13.3, 59.3, 10.9, 24.6, 8.92, 24.8, 360, 61.9]}]\n",
      "0_18 : Have [3759] tracks in the file\n",
      "number of tracks [3759]\n",
      "0_18 : Got the track properties\n",
      "Building the graph\n",
      "n_tracks 3759\n",
      "Sizes: 3759 3759 3759\n"
     ]
    },
    {
     "name": "stderr",
     "output_type": "stream",
     "text": [
      "100%|█████████▉| 3758/3759 [00:01<00:00, 2503.98it/s]\n"
     ]
    },
    {
     "name": "stdout",
     "output_type": "stream",
     "text": [
      "8\n",
      "key GNNtree_3618;1\n",
      "track_data [... 17.9, 2.67, 14.3, 8.73, 40.2, 4.96, 24.8, 159, 16.7, 15.9, 80.8, 55.8, 39.3]}]\n",
      "0_19 : Have [3154] tracks in the file\n",
      "number of tracks [3154]\n",
      "0_19 : Got the track properties\n",
      "Building the graph\n",
      "n_tracks 3154\n",
      "Sizes: 3154 3154 3154\n"
     ]
    },
    {
     "name": "stderr",
     "output_type": "stream",
     "text": [
      "100%|█████████▉| 3153/3154 [00:00<00:00, 3230.81it/s]\n"
     ]
    },
    {
     "name": "stdout",
     "output_type": "stream",
     "text": [
      "9\n",
      "key GNNtree_3621;1\n",
      "track_data [... 23.7, 15.5, 58.2, 12.3, 11.4, 45, 9.33, 35, 31.6, 36.1, 52.8, 53.7, 60.2]}]\n",
      "0_20 : Have [3094] tracks in the file\n",
      "number of tracks [3094]\n",
      "0_20 : Got the track properties\n",
      "Building the graph\n",
      "n_tracks 3094\n",
      "Sizes: 3094 3094 3094\n"
     ]
    },
    {
     "name": "stderr",
     "output_type": "stream",
     "text": [
      "100%|█████████▉| 3093/3094 [00:00<00:00, 4155.59it/s]\n"
     ]
    },
    {
     "name": "stdout",
     "output_type": "stream",
     "text": [
      "10\n",
      "t = 0.9473950862884521 ... Saving the pickle data for 0_20\n",
      "loading error 1\n",
      "loading error 2\n",
      "filennaame  ./dataset_check/0_20_edge_features.pkl\n",
      "key GNNtree_3622;1\n",
      "track_data [... 34.2, 43.1, 11.9, 18.8, 40, 14.8, 38.3, 7.05, 33, 50.7, 75.3, 53.5, 49.8]}]\n",
      "0_21 : Have [2907] tracks in the file\n",
      "number of tracks [2907]\n",
      "0_21 : Got the track properties\n",
      "Building the graph\n",
      "n_tracks 2907\n",
      "Sizes: 2907 2907 2907\n"
     ]
    },
    {
     "name": "stderr",
     "output_type": "stream",
     "text": [
      "100%|█████████▉| 2906/2907 [00:00<00:00, 4284.33it/s]\n"
     ]
    },
    {
     "name": "stdout",
     "output_type": "stream",
     "text": [
      "1\n",
      "key GNNtree_3623;1\n",
      "track_data [... 3.04, 25.1, 41.4, 22, 25.3, 41.2, 76.6, 5.55, 36, 12.2, 6.48, 16.4, 74.8]}]\n",
      "0_22 : Have [3214] tracks in the file\n",
      "number of tracks [3214]\n",
      "0_22 : Got the track properties\n",
      "Building the graph\n",
      "n_tracks 3214\n",
      "Sizes: 3214 3214 3214\n"
     ]
    },
    {
     "name": "stderr",
     "output_type": "stream",
     "text": [
      "100%|█████████▉| 3213/3214 [00:01<00:00, 3156.68it/s]\n"
     ]
    },
    {
     "name": "stdout",
     "output_type": "stream",
     "text": [
      "2\n",
      "key GNNtree_3625;1\n",
      "track_data [... 48.7, 5.92, 43.9, 44.7, 8.21, 104, 55.5, 71.3, 55.1, 45.8, 30.6, 36.9, 36.2]}]\n",
      "0_23 : Have [3821] tracks in the file\n",
      "number of tracks [3821]\n",
      "0_23 : Got the track properties\n",
      "Building the graph\n",
      "n_tracks 3821\n",
      "Sizes: 3821 3821 3821\n"
     ]
    },
    {
     "name": "stderr",
     "output_type": "stream",
     "text": [
      "100%|█████████▉| 3820/3821 [00:01<00:00, 2526.86it/s]\n"
     ]
    },
    {
     "name": "stdout",
     "output_type": "stream",
     "text": [
      "3\n",
      "key GNNtree_3627;1\n",
      "track_data [... 44.5, 20.8, 17.8, 35.3, 41.5, 9.12, 123, 99.5, 82.7, 25.4, 74.6, 65.4, 86.9]}]\n",
      "0_24 : Have [3059] tracks in the file\n",
      "number of tracks [3059]\n",
      "0_24 : Got the track properties\n",
      "Building the graph\n",
      "n_tracks 3059\n",
      "Sizes: 3059 3059 3059\n"
     ]
    },
    {
     "name": "stderr",
     "output_type": "stream",
     "text": [
      "100%|█████████▉| 3058/3059 [00:00<00:00, 3545.56it/s]\n"
     ]
    },
    {
     "name": "stdout",
     "output_type": "stream",
     "text": [
      "4\n",
      "key GNNtree_3624;1\n",
      "track_data [... 32.5, 38.7, 25.9, 20, 10.2, 8.68, 21.5, 22.1, 8.51, 15, 12.6, 49, 48.8, 115]}]\n",
      "0_25 : Have [3669] tracks in the file\n",
      "number of tracks [3669]\n",
      "0_25 : Got the track properties\n",
      "Building the graph\n",
      "n_tracks 3669\n",
      "Sizes: 3669 3669 3669\n"
     ]
    },
    {
     "name": "stderr",
     "output_type": "stream",
     "text": [
      "100%|█████████▉| 3668/3669 [00:01<00:00, 3003.73it/s]\n"
     ]
    },
    {
     "name": "stdout",
     "output_type": "stream",
     "text": [
      "5\n",
      "key GNNtree_3626;1\n",
      "track_data [... 6.76, 10.3, 38.7, 8.25, 35, 38, 22.1, 34.8, 93, 37.5, 14.9, 80.5, 57.1, 42]}]\n",
      "0_26 : Have [3113] tracks in the file\n",
      "number of tracks [3113]\n",
      "0_26 : Got the track properties\n",
      "Building the graph\n",
      "n_tracks 3113\n",
      "Sizes: 3113 3113 3113\n"
     ]
    },
    {
     "name": "stderr",
     "output_type": "stream",
     "text": [
      "100%|█████████▉| 3112/3113 [00:00<00:00, 3226.32it/s]\n"
     ]
    },
    {
     "name": "stdout",
     "output_type": "stream",
     "text": [
      "6\n",
      "key GNNtree_3628;1\n",
      "track_data [... 17.9, 9.3, 31.8, 12, 16.8, 5.34, 55, 46, 57.8, 52.2, 73.1, 56.6, 108, 43.2]}]\n",
      "0_27 : Have [3713] tracks in the file\n",
      "number of tracks [3713]\n",
      "0_27 : Got the track properties\n",
      "Building the graph\n",
      "n_tracks 3713\n",
      "Sizes: 3713 3713 3713\n"
     ]
    },
    {
     "name": "stderr",
     "output_type": "stream",
     "text": [
      "100%|█████████▉| 3712/3713 [00:01<00:00, 2474.72it/s]\n"
     ]
    },
    {
     "name": "stdout",
     "output_type": "stream",
     "text": [
      "7\n",
      "key GNNtree_3629;1\n",
      "track_data [... 3.07, 10.9, 43.9, 28.7, 3.93, 7.54, 21.1, 130, 219, 95.3, 105, 89.2, 252]}]\n",
      "0_28 : Have [3258] tracks in the file\n",
      "number of tracks [3258]\n",
      "0_28 : Got the track properties\n",
      "Building the graph\n",
      "n_tracks 3258\n",
      "Sizes: 3258 3258 3258\n"
     ]
    },
    {
     "name": "stderr",
     "output_type": "stream",
     "text": [
      "100%|█████████▉| 3257/3258 [00:00<00:00, 3490.65it/s]\n"
     ]
    },
    {
     "name": "stdout",
     "output_type": "stream",
     "text": [
      "8\n",
      "key GNNtree_3630;1\n",
      "track_data [... 9.96, 48.7, 11.3, 19.8, 23.6, 51.7, 35.1, 4.51, 96.7, 33.5, 25.8, 33, 53.4]}]\n",
      "0_29 : Have [3947] tracks in the file\n",
      "number of tracks [3947]\n",
      "0_29 : Got the track properties\n",
      "Building the graph\n",
      "n_tracks 3947\n",
      "Sizes: 3947 3947 3947\n"
     ]
    },
    {
     "name": "stderr",
     "output_type": "stream",
     "text": [
      "100%|█████████▉| 3946/3947 [00:01<00:00, 2633.40it/s]\n"
     ]
    },
    {
     "name": "stdout",
     "output_type": "stream",
     "text": [
      "9\n",
      "key GNNtree_3631;1\n",
      "track_data [... 4.6, 30.4, 22.6, 46.5, 22, 40.1, 16.8, 9.56, 32.6, 41.9, 54.9, 43.3, 97.7]}]\n",
      "0_30 : Have [3375] tracks in the file\n",
      "number of tracks [3375]\n",
      "0_30 : Got the track properties\n",
      "Building the graph\n",
      "n_tracks 3375\n",
      "Sizes: 3375 3375 3375\n"
     ]
    },
    {
     "name": "stderr",
     "output_type": "stream",
     "text": [
      "100%|█████████▉| 3374/3375 [00:00<00:00, 3614.87it/s]\n"
     ]
    },
    {
     "name": "stdout",
     "output_type": "stream",
     "text": [
      "10\n",
      "t = 1.2221691608428955 ... Saving the pickle data for 0_30\n",
      "loading error 1\n",
      "loading error 2\n",
      "filennaame  ./dataset_check/0_30_edge_features.pkl\n",
      "key GNNtree_3632;1\n",
      "track_data [... 2.34, 29.5, 117, 4.15, 25.5, 6.79, 7.69, 69.5, 25.9, 152, 13.8, 55.9, 25]}]\n",
      "0_31 : Have [3190] tracks in the file\n",
      "number of tracks [3190]\n",
      "0_31 : Got the track properties\n",
      "Building the graph\n",
      "n_tracks 3190\n",
      "Sizes: 3190 3190 3190\n"
     ]
    },
    {
     "name": "stderr",
     "output_type": "stream",
     "text": [
      "100%|█████████▉| 3189/3190 [00:01<00:00, 3011.11it/s]\n"
     ]
    },
    {
     "name": "stdout",
     "output_type": "stream",
     "text": [
      "1\n",
      "key GNNtree_3633;1\n",
      "track_data [... 27.5, 8.57, 11.8, 28.7, 36.7, 16, 141, 88.1, 80.6, 59.2, 7.76, 72, 40, 43.5]}]\n",
      "0_32 : Have [3183] tracks in the file\n",
      "number of tracks [3183]\n",
      "0_32 : Got the track properties\n",
      "Building the graph\n",
      "n_tracks 3183\n",
      "Sizes: 3182 3182 3182\n"
     ]
    },
    {
     "name": "stderr",
     "output_type": "stream",
     "text": [
      "100%|█████████▉| 3181/3182 [00:00<00:00, 3245.18it/s]\n"
     ]
    },
    {
     "name": "stdout",
     "output_type": "stream",
     "text": [
      "2\n",
      "key GNNtree_3634;1\n",
      "track_data [... 55.6, 5.41, 7.12, 9.62, 35.9, 40.9, 1.62, 13.6, 56.6, 68.7, 61.5, 99.1]}]\n",
      "0_33 : Have [3555] tracks in the file\n",
      "number of tracks [3555]\n",
      "0_33 : Got the track properties\n",
      "Building the graph\n",
      "n_tracks 3555\n",
      "Sizes: 3555 3555 3555\n"
     ]
    },
    {
     "name": "stderr",
     "output_type": "stream",
     "text": [
      "100%|█████████▉| 3554/3555 [00:00<00:00, 3945.45it/s]\n"
     ]
    },
    {
     "name": "stdout",
     "output_type": "stream",
     "text": [
      "3\n",
      "key GNNtree_3635;1\n",
      "track_data [... 18.2, 11.1, 9.06, 8.39, 11.3, 25.5, 39.6, 30.9, 90.4, 56.6, 56.6, 59, 125]}]\n",
      "0_34 : Have [3159] tracks in the file\n",
      "number of tracks [3159]\n",
      "0_34 : Got the track properties\n",
      "Building the graph\n",
      "n_tracks 3159\n",
      "Sizes: 3159 3159 3159\n"
     ]
    },
    {
     "name": "stderr",
     "output_type": "stream",
     "text": [
      "100%|█████████▉| 3158/3159 [00:00<00:00, 3480.68it/s]\n"
     ]
    },
    {
     "name": "stdout",
     "output_type": "stream",
     "text": [
      "4\n",
      "key GNNtree_3637;1\n",
      "track_data [... 23.4, 34.3, 17.8, 8.81, 29.7, 13.7, 43, 43.7, 39.9, 192, 93.3, 67.7, 51.4]}]\n",
      "0_35 : Have [3147] tracks in the file\n",
      "number of tracks [3147]\n",
      "0_35 : Got the track properties\n",
      "Building the graph\n",
      "n_tracks 3147\n",
      "Sizes: 3147 3147 3147\n"
     ]
    },
    {
     "name": "stderr",
     "output_type": "stream",
     "text": [
      "100%|█████████▉| 3146/3147 [00:00<00:00, 3834.22it/s]\n"
     ]
    },
    {
     "name": "stdout",
     "output_type": "stream",
     "text": [
      "5\n",
      "key GNNtree_3636;1\n",
      "track_data [... 15.6, 3.78, 38.5, 42.7, 39.3, 49, 91.9, 68.8, 13.1, 19.4, 72.7, 85.1, 89.1]}]\n",
      "0_36 : Have [3863] tracks in the file\n",
      "number of tracks [3863]\n",
      "0_36 : Got the track properties\n",
      "Building the graph\n",
      "n_tracks 3863\n",
      "Sizes: 3863 3863 3863\n"
     ]
    },
    {
     "name": "stderr",
     "output_type": "stream",
     "text": [
      "100%|█████████▉| 3862/3863 [00:01<00:00, 3068.17it/s]\n"
     ]
    },
    {
     "name": "stdout",
     "output_type": "stream",
     "text": [
      "6\n",
      "key GNNtree_3638;1\n",
      "track_data [... 6.86, 30.1, 21.9, 35.7, 16.4, 38.2, 10.4, 43.3, 46.2, 68.8, 54.7, 107, 78.9]}]\n",
      "0_37 : Have [3286] tracks in the file\n",
      "number of tracks [3286]\n",
      "0_37 : Got the track properties\n",
      "Building the graph\n",
      "n_tracks 3286\n",
      "Sizes: 3286 3286 3286\n"
     ]
    },
    {
     "name": "stderr",
     "output_type": "stream",
     "text": [
      "100%|█████████▉| 3285/3286 [00:01<00:00, 3039.78it/s]\n"
     ]
    },
    {
     "name": "stdout",
     "output_type": "stream",
     "text": [
      "7\n",
      "key GNNtree_3640;1\n",
      "track_data [... 35.7, 8.94, 31.9, 21.7, 7.51, 9.32, 16.2, 24, 14.2, 214, 151, 57.9, 34.4]}]\n",
      "0_38 : Have [2860] tracks in the file\n",
      "number of tracks [2860]\n",
      "0_38 : Got the track properties\n",
      "Building the graph\n",
      "n_tracks 2860\n",
      "Sizes: 2860 2860 2860\n"
     ]
    },
    {
     "name": "stderr",
     "output_type": "stream",
     "text": [
      "100%|█████████▉| 2859/2860 [00:00<00:00, 3447.24it/s]\n"
     ]
    },
    {
     "name": "stdout",
     "output_type": "stream",
     "text": [
      "8\n",
      "key GNNtree_3639;1\n",
      "track_data [... 17.2, 13.3, 75.4, 22.3, 45.1, 98.7, 43.6, 124, 56.7, 32.2, 94.1, 33.9, 44.3]}]\n",
      "0_39 : Have [3579] tracks in the file\n",
      "number of tracks [3579]\n",
      "0_39 : Got the track properties\n",
      "Building the graph\n",
      "n_tracks 3579\n",
      "Sizes: 3579 3579 3579\n"
     ]
    },
    {
     "name": "stderr",
     "output_type": "stream",
     "text": [
      "100%|█████████▉| 3578/3579 [00:01<00:00, 3118.37it/s]\n"
     ]
    },
    {
     "name": "stdout",
     "output_type": "stream",
     "text": [
      "9\n",
      "key GNNtree_3642;1\n",
      "track_data [... 13.4, 11, 3.39, 17.3, 20, 6.42, 30.6, 20.5, 39.3, 34.3, 149, 53.7, 49, 48.8]}]\n",
      "0_40 : Have [3292] tracks in the file\n",
      "number of tracks [3292]\n",
      "0_40 : Got the track properties\n",
      "Building the graph\n",
      "n_tracks 3292\n",
      "Sizes: 3292 3292 3292\n"
     ]
    },
    {
     "name": "stderr",
     "output_type": "stream",
     "text": [
      "100%|█████████▉| 3291/3292 [00:00<00:00, 3657.70it/s]\n"
     ]
    },
    {
     "name": "stdout",
     "output_type": "stream",
     "text": [
      "10\n",
      "t = 1.1715905666351318 ... Saving the pickle data for 0_40\n",
      "loading error 1\n",
      "loading error 2\n",
      "filennaame  ./dataset_check/0_40_edge_features.pkl\n",
      "key GNNtree_3641;1\n",
      "track_data [... 22.7, 23.7, 4.12, 9.43, 10.2, 32.7, 28.4, 17.2, 17, 32.9, 22.4, 59.8, 134]}]\n",
      "0_41 : Have [2833] tracks in the file\n",
      "number of tracks [2833]\n",
      "0_41 : Got the track properties\n",
      "Building the graph\n",
      "n_tracks 2833\n",
      "Sizes: 2833 2833 2833\n"
     ]
    },
    {
     "name": "stderr",
     "output_type": "stream",
     "text": [
      "100%|█████████▉| 2832/2833 [00:00<00:00, 4076.48it/s]\n"
     ]
    },
    {
     "name": "stdout",
     "output_type": "stream",
     "text": [
      "1\n",
      "key GNNtree_3644;1\n",
      "track_data [... 24.8, 32.9, 37, 19.9, 8.79, 29.7, 57.5, 52, 3.84, 47.2, 51, 51.3, 183, 26.2]}]\n",
      "0_42 : Have [3187] tracks in the file\n",
      "number of tracks [3187]\n",
      "0_42 : Got the track properties\n",
      "Building the graph\n",
      "n_tracks 3187\n",
      "Sizes: 3187 3187 3187\n"
     ]
    },
    {
     "name": "stderr",
     "output_type": "stream",
     "text": [
      "100%|█████████▉| 3186/3187 [00:00<00:00, 3233.77it/s]\n"
     ]
    },
    {
     "name": "stdout",
     "output_type": "stream",
     "text": [
      "2\n",
      "key GNNtree_3643;1\n",
      "track_data [... 31.6, 16.8, 17.3, 7.48, 19.3, 16.6, 46.3, 35.7, 33.2, 74.3, 65.1, 46.8]}]\n",
      "0_43 : Have [3455] tracks in the file\n",
      "number of tracks [3455]\n",
      "0_43 : Got the track properties\n",
      "Building the graph\n",
      "n_tracks 3455\n",
      "Sizes: 3455 3455 3455\n"
     ]
    },
    {
     "name": "stderr",
     "output_type": "stream",
     "text": [
      "100%|█████████▉| 3454/3455 [00:01<00:00, 3138.33it/s]\n"
     ]
    },
    {
     "name": "stdout",
     "output_type": "stream",
     "text": [
      "3\n",
      "key GNNtree_3645;1\n",
      "track_data [... 19, 12.1, 69, 11.7, 10, 18.4, 16.7, 7.23, 10.9, 17, 41.4, 216, 52.6, 38.6]}]\n",
      "0_44 : Have [3745] tracks in the file\n",
      "number of tracks [3745]\n",
      "0_44 : Got the track properties\n",
      "Building the graph\n",
      "n_tracks 3745\n",
      "Sizes: 3744 3744 3744\n"
     ]
    },
    {
     "name": "stderr",
     "output_type": "stream",
     "text": [
      "100%|█████████▉| 3743/3744 [00:01<00:00, 3032.69it/s]\n"
     ]
    },
    {
     "name": "stdout",
     "output_type": "stream",
     "text": [
      "4\n",
      "key GNNtree_3646;1\n",
      "track_data [... 9.19, 34.4, 12.1, 11.2, 31.8, 58.3, 73.6, 99.7, 46.3, 39.8, 33.9, 107, 27]}]\n",
      "0_45 : Have [3528] tracks in the file\n",
      "number of tracks [3528]\n",
      "0_45 : Got the track properties\n",
      "Building the graph\n",
      "n_tracks 3528\n",
      "Sizes: 3528 3528 3528\n"
     ]
    },
    {
     "name": "stderr",
     "output_type": "stream",
     "text": [
      "100%|█████████▉| 3527/3528 [00:00<00:00, 3757.78it/s]\n"
     ]
    },
    {
     "name": "stdout",
     "output_type": "stream",
     "text": [
      "5\n",
      "key GNNtree_3648;1\n",
      "track_data [... 28.4, 40, 8.35, 20.2, 32.9, 9.41, 72.7, 9.71, 47.5, 43.1, 70.1, 61.2, 29.5]}]\n",
      "0_46 : Have [3209] tracks in the file\n",
      "number of tracks [3209]\n",
      "0_46 : Got the track properties\n",
      "Building the graph\n",
      "n_tracks 3209\n",
      "Sizes: 3209 3209 3209\n"
     ]
    },
    {
     "name": "stderr",
     "output_type": "stream",
     "text": [
      "100%|█████████▉| 3208/3209 [00:01<00:00, 3144.04it/s]\n"
     ]
    },
    {
     "name": "stdout",
     "output_type": "stream",
     "text": [
      "6\n",
      "key GNNtree_3647;1\n",
      "track_data [... 19.5, 31.8, 16.3, 6.82, 16.3, 3.3, 20.9, 29.3, 11.5, 8.83, 50.9, 30.5, 62.9]}]\n",
      "0_47 : Have [3187] tracks in the file\n",
      "number of tracks [3187]\n",
      "0_47 : Got the track properties\n",
      "Building the graph\n",
      "n_tracks 3187\n",
      "Sizes: 3187 3187 3187\n"
     ]
    },
    {
     "name": "stderr",
     "output_type": "stream",
     "text": [
      "100%|█████████▉| 3186/3187 [00:00<00:00, 3762.78it/s]\n"
     ]
    },
    {
     "name": "stdout",
     "output_type": "stream",
     "text": [
      "7\n",
      "key GNNtree_3649;1\n",
      "track_data [... 19.3, 9.18, 5.87, 54.6, 6.55, 9.15, 18.9, 23.1, 53.4, 71.3, 29.8, 188, 89]}]\n",
      "0_48 : Have [3368] tracks in the file\n",
      "number of tracks [3368]\n",
      "0_48 : Got the track properties\n",
      "Building the graph\n",
      "n_tracks 3368\n",
      "Sizes: 3368 3368 3368\n"
     ]
    },
    {
     "name": "stderr",
     "output_type": "stream",
     "text": [
      "100%|█████████▉| 3367/3368 [00:01<00:00, 3002.39it/s]\n"
     ]
    },
    {
     "name": "stdout",
     "output_type": "stream",
     "text": [
      "8\n",
      "key GNNtree_3651;1\n",
      "track_data [... 5.36, 3.38, 127, 25.4, 47.6, 167, 46.1, 29, 62.7, 72.7, 142, 46.5, 38.5]}]\n",
      "0_49 : Have [3412] tracks in the file\n",
      "number of tracks [3412]\n",
      "0_49 : Got the track properties\n",
      "Building the graph\n",
      "n_tracks 3412\n",
      "Sizes: 3412 3412 3412\n"
     ]
    },
    {
     "name": "stderr",
     "output_type": "stream",
     "text": [
      "100%|█████████▉| 3411/3412 [00:01<00:00, 3059.43it/s]\n"
     ]
    },
    {
     "name": "stdout",
     "output_type": "stream",
     "text": [
      "9\n",
      "key GNNtree_3650;1\n",
      "track_data [... 34.4, 8.86, 9.24, 44.9, 16.7, 15.4, 30.7, 14.1, 6.22, 45.3, 106, 48.9, 38.9]}]\n",
      "0_50 : Have [3232] tracks in the file\n",
      "number of tracks [3232]\n",
      "0_50 : Got the track properties\n",
      "Building the graph\n",
      "n_tracks 3232\n",
      "Sizes: 3232 3232 3232\n"
     ]
    },
    {
     "name": "stderr",
     "output_type": "stream",
     "text": [
      "100%|█████████▉| 3231/3232 [00:00<00:00, 3337.80it/s]\n"
     ]
    },
    {
     "name": "stdout",
     "output_type": "stream",
     "text": [
      "10\n",
      "t = 1.2499253749847412 ... Saving the pickle data for 0_50\n",
      "loading error 1\n",
      "loading error 2\n",
      "filennaame  ./dataset_check/0_50_edge_features.pkl\n",
      "key GNNtree_3652;1\n",
      "track_data [... 24.5, 44.9, 21.1, 7.98, 23.7, 46.4, 34, 10.9, 72.9, 76.4, 57.6, 55.3, 28.8]}]\n",
      "0_51 : Have [3215] tracks in the file\n",
      "number of tracks [3215]\n",
      "0_51 : Got the track properties\n",
      "Building the graph\n",
      "n_tracks 3215\n",
      "Sizes: 3215 3215 3215\n"
     ]
    },
    {
     "name": "stderr",
     "output_type": "stream",
     "text": [
      "100%|█████████▉| 3214/3215 [00:01<00:00, 2747.29it/s]\n"
     ]
    },
    {
     "name": "stdout",
     "output_type": "stream",
     "text": [
      "1\n",
      "key GNNtree_3653;1\n",
      "track_data [... 44.2, 29.4, 13.8, 35.1, 5.81, 8.71, 57.5, 8.69, 117, 91.8, 58.9, 39.4, 37.6]}]\n",
      "0_52 : Have [2588] tracks in the file\n",
      "number of tracks [2588]\n",
      "0_52 : Got the track properties\n",
      "Building the graph\n",
      "n_tracks 2588\n",
      "Sizes: 2588 2588 2588\n"
     ]
    },
    {
     "name": "stderr",
     "output_type": "stream",
     "text": [
      "100%|█████████▉| 2587/2588 [00:00<00:00, 3849.16it/s]\n"
     ]
    },
    {
     "name": "stdout",
     "output_type": "stream",
     "text": [
      "2\n",
      "key GNNtree_3654;1\n",
      "track_data [... 8.46, 15.5, 27.7, 11.4, 14.4, 20, 22.3, 8.46, 66.2, 86.3, 69, 57, 184, 6.5]}]\n",
      "0_53 : Have [3211] tracks in the file\n",
      "number of tracks [3211]\n",
      "0_53 : Got the track properties\n",
      "Building the graph\n",
      "n_tracks 3211\n",
      "Sizes: 3211 3211 3211\n"
     ]
    },
    {
     "name": "stderr",
     "output_type": "stream",
     "text": [
      "100%|█████████▉| 3210/3211 [00:00<00:00, 3537.55it/s]\n"
     ]
    },
    {
     "name": "stdout",
     "output_type": "stream",
     "text": [
      "3\n",
      "key GNNtree_3655;1\n",
      "track_data [... 37.6, 4.12, 13.6, 16.1, 9.22, 62.4, 62.8, 87.9, 41, 51.2, 32.7, 41.3, 90.5]}]\n",
      "0_54 : Have [3720] tracks in the file\n",
      "number of tracks [3720]\n",
      "0_54 : Got the track properties\n",
      "Building the graph\n",
      "n_tracks 3720\n",
      "Sizes: 3720 3720 3720\n"
     ]
    },
    {
     "name": "stderr",
     "output_type": "stream",
     "text": [
      "100%|█████████▉| 3719/3720 [00:01<00:00, 2617.61it/s]\n"
     ]
    },
    {
     "name": "stdout",
     "output_type": "stream",
     "text": [
      "4\n",
      "key GNNtree_3657;1\n",
      "track_data [... 9.96, 25.5, 30.9, 16, 23.1, 31.7, 79.8, 18, 25.1, 114, 69.4, 69.7, 82.2]}]\n",
      "0_55 : Have [3715] tracks in the file\n",
      "number of tracks [3715]\n",
      "0_55 : Got the track properties\n",
      "Building the graph\n",
      "n_tracks 3715\n",
      "Sizes: 3715 3715 3715\n"
     ]
    },
    {
     "name": "stderr",
     "output_type": "stream",
     "text": [
      "100%|█████████▉| 3714/3715 [00:00<00:00, 3780.18it/s]\n"
     ]
    },
    {
     "name": "stdout",
     "output_type": "stream",
     "text": [
      "5\n",
      "key GNNtree_3656;1\n",
      "track_data [... 14.5, 20, 4.39, 36.1, 31.7, 22, 29.1, 197, 216, 152, 53.2, 43.4, 18.3, 13.2]}]\n",
      "0_56 : Have [3341] tracks in the file\n",
      "number of tracks [3341]\n",
      "0_56 : Got the track properties\n",
      "Building the graph\n",
      "n_tracks 3341\n",
      "Sizes: 3341 3341 3341\n"
     ]
    },
    {
     "name": "stderr",
     "output_type": "stream",
     "text": [
      "100%|█████████▉| 3340/3341 [00:00<00:00, 3856.97it/s]\n"
     ]
    },
    {
     "name": "stdout",
     "output_type": "stream",
     "text": [
      "6\n",
      "key GNNtree_3658;1\n",
      "track_data [... 14.5, 7.02, 4.9, 2.39, 25.6, 72.2, 94.5, 51.4, 74.5, 69.8, 50.1, 26.3, 124]}]\n",
      "0_57 : Have [3705] tracks in the file\n",
      "number of tracks [3705]\n",
      "0_57 : Got the track properties\n",
      "Building the graph\n",
      "n_tracks 3705\n",
      "Sizes: 3705 3705 3705\n"
     ]
    },
    {
     "name": "stderr",
     "output_type": "stream",
     "text": [
      "100%|█████████▉| 3704/3705 [00:01<00:00, 3131.08it/s]\n"
     ]
    },
    {
     "name": "stdout",
     "output_type": "stream",
     "text": [
      "7\n",
      "key GNNtree_3659;1\n",
      "track_data [... 13.5, 17.5, 57.7, 16.3, 48.2, 45.5, 18.3, 88.5, 62.7, 43.7, 36.3, 16, 50.4]}]\n",
      "0_58 : Have [3917] tracks in the file\n",
      "number of tracks [3917]\n",
      "0_58 : Got the track properties\n",
      "Building the graph\n",
      "n_tracks 3917\n",
      "Sizes: 3917 3917 3917\n"
     ]
    },
    {
     "name": "stderr",
     "output_type": "stream",
     "text": [
      "100%|█████████▉| 3916/3917 [00:01<00:00, 3125.89it/s]\n"
     ]
    },
    {
     "name": "stdout",
     "output_type": "stream",
     "text": [
      "8\n",
      "key GNNtree_3660;1\n",
      "track_data [... 40.2, 33.6, 21.6, 18.6, 38.4, 22.3, 17.4, 37.2, 118, 49.3, 88.5, 102, 44.2]}]\n",
      "0_59 : Have [3268] tracks in the file\n",
      "number of tracks [3268]\n",
      "0_59 : Got the track properties\n",
      "Building the graph\n",
      "n_tracks 3268\n",
      "Sizes: 3268 3268 3268\n"
     ]
    },
    {
     "name": "stderr",
     "output_type": "stream",
     "text": [
      "100%|█████████▉| 3267/3268 [00:01<00:00, 3035.25it/s]\n"
     ]
    },
    {
     "name": "stdout",
     "output_type": "stream",
     "text": [
      "9\n",
      "key GNNtree_3661;1\n",
      "track_data [... 51.1, 1.53, 10.5, 35.8, 23, 35.6, 3.76, 18.7, 12.3, 13.2, 60.4, 36.1, 88.1]}]\n",
      "0_60 : Have [3680] tracks in the file\n",
      "number of tracks [3680]\n",
      "0_60 : Got the track properties\n",
      "Building the graph\n",
      "n_tracks 3680\n",
      "Sizes: 3680 3680 3680\n"
     ]
    },
    {
     "name": "stderr",
     "output_type": "stream",
     "text": [
      "100%|█████████▉| 3679/3680 [00:01<00:00, 2849.90it/s]\n"
     ]
    },
    {
     "name": "stdout",
     "output_type": "stream",
     "text": [
      "10\n",
      "t = 1.6102590560913086 ... Saving the pickle data for 0_60\n",
      "loading error 1\n",
      "loading error 2\n",
      "filennaame  ./dataset_check/0_60_edge_features.pkl\n",
      "key GNNtree_3662;1\n",
      "track_data [... 18.2, 9.31, 31.1, 21.9, 9.95, 58.6, 8.91, 21.7, 32.3, 95.6, 165, 132, 83.5]}]\n",
      "0_61 : Have [3017] tracks in the file\n",
      "number of tracks [3017]\n",
      "0_61 : Got the track properties\n",
      "Building the graph\n",
      "n_tracks 3017\n",
      "Sizes: 3017 3017 3017\n"
     ]
    },
    {
     "name": "stderr",
     "output_type": "stream",
     "text": [
      "100%|█████████▉| 3016/3017 [00:00<00:00, 3881.95it/s]\n"
     ]
    },
    {
     "name": "stdout",
     "output_type": "stream",
     "text": [
      "1\n",
      "key GNNtree_3664;1\n",
      "track_data [... 49.7, 39.4, 8.47, 20, 7.87, 15.5, 27.7, 16.4, 54.3, 28.6, 86.3, 65.7, 60.9]}]\n",
      "0_62 : Have [3290] tracks in the file\n",
      "number of tracks [3290]\n",
      "0_62 : Got the track properties\n",
      "Building the graph\n",
      "n_tracks 3290\n",
      "Sizes: 3290 3290 3290\n"
     ]
    },
    {
     "name": "stderr",
     "output_type": "stream",
     "text": [
      "100%|█████████▉| 3289/3290 [00:01<00:00, 3000.57it/s]\n"
     ]
    },
    {
     "name": "stdout",
     "output_type": "stream",
     "text": [
      "2\n",
      "key GNNtree_3663;1\n",
      "track_data [... 5.93, 14.4, 12.6, 30.2, 52.4, 13.9, 52.6, 14.9, 22.7, 29, 144, 39.4, 48]}]\n",
      "0_63 : Have [3636] tracks in the file\n",
      "number of tracks [3636]\n",
      "0_63 : Got the track properties\n",
      "Building the graph\n",
      "n_tracks 3636\n",
      "Sizes: 3636 3636 3636\n"
     ]
    },
    {
     "name": "stderr",
     "output_type": "stream",
     "text": [
      "100%|█████████▉| 3635/3636 [00:01<00:00, 3158.50it/s]\n"
     ]
    },
    {
     "name": "stdout",
     "output_type": "stream",
     "text": [
      "3\n",
      "key GNNtree_3665;1\n",
      "track_data [... 11.6, 28.3, 38.5, 39.7, 21.1, 21.8, 16.7, 12.9, 17.8, 6.31, 62.4, 68.9, 102]}]\n",
      "0_64 : Have [3258] tracks in the file\n",
      "number of tracks [3258]\n",
      "0_64 : Got the track properties\n",
      "Building the graph\n",
      "n_tracks 3258\n",
      "Sizes: 3258 3258 3258\n"
     ]
    },
    {
     "name": "stderr",
     "output_type": "stream",
     "text": [
      "100%|█████████▉| 3257/3258 [00:01<00:00, 3176.03it/s]\n"
     ]
    },
    {
     "name": "stdout",
     "output_type": "stream",
     "text": [
      "4\n",
      "key GNNtree_3666;1\n",
      "track_data [... 5.36, 9.77, 27.5, 2.99, 21.8, 9.12, 45.3, 39, 20, 23.5, 48.5, 91.2, 84.2]}]\n",
      "0_65 : Have [3990] tracks in the file\n",
      "number of tracks [3990]\n",
      "0_65 : Got the track properties\n",
      "Building the graph\n",
      "n_tracks 3990\n",
      "Sizes: 3990 3990 3990\n"
     ]
    },
    {
     "name": "stderr",
     "output_type": "stream",
     "text": [
      "100%|█████████▉| 3989/3990 [00:01<00:00, 2969.68it/s]\n"
     ]
    },
    {
     "name": "stdout",
     "output_type": "stream",
     "text": [
      "5\n",
      "key GNNtree_3668;1\n",
      "track_data [... 57.4, 27.7, 5.1, 16.4, 0.927, 3.99, 26.9, 53.1, 60.9, 79.9, 49.1, 43.4, 122]}]\n",
      "0_66 : Have [4954] tracks in the file\n",
      "number of tracks [4954]\n",
      "0_66 : Got the track properties\n",
      "Building the graph\n",
      "n_tracks 4954\n",
      "Sizes: 4954 4954 4954\n"
     ]
    },
    {
     "name": "stderr",
     "output_type": "stream",
     "text": [
      "100%|█████████▉| 4953/4954 [00:01<00:00, 2524.37it/s]\n"
     ]
    },
    {
     "name": "stdout",
     "output_type": "stream",
     "text": [
      "6\n",
      "key GNNtree_3667;1\n",
      "track_data [... 26.5, 4.15, 27.1, 9.26, 2.1, 13.7, 28.5, 35.7, 113, 95.1, 79, 23.1, 172]}]\n",
      "0_67 : Have [3623] tracks in the file\n",
      "number of tracks [3623]\n",
      "0_67 : Got the track properties\n",
      "Building the graph\n",
      "n_tracks 3623\n",
      "Sizes: 3623 3623 3623\n"
     ]
    },
    {
     "name": "stderr",
     "output_type": "stream",
     "text": [
      "100%|█████████▉| 3622/3623 [00:01<00:00, 2460.98it/s]\n"
     ]
    },
    {
     "name": "stdout",
     "output_type": "stream",
     "text": [
      "7\n",
      "key GNNtree_3669;1\n",
      "track_data [... 6.26, 21.6, 12.5, 40, 22.6, 2.58, 6.54, 14.3, 18.9, 62.2, 27.7, 33, 25.2]}]\n",
      "0_68 : Have [3296] tracks in the file\n",
      "number of tracks [3296]\n",
      "0_68 : Got the track properties\n",
      "Building the graph\n",
      "n_tracks 3296\n",
      "Sizes: 3296 3296 3296\n"
     ]
    },
    {
     "name": "stderr",
     "output_type": "stream",
     "text": [
      "100%|█████████▉| 3295/3296 [00:00<00:00, 3698.43it/s]\n"
     ]
    },
    {
     "name": "stdout",
     "output_type": "stream",
     "text": [
      "8\n",
      "key GNNtree_3671;1\n",
      "track_data [... 6.98, 18.7, 7.08, 31.9, 14.3, 25.3, 51.3, 25.8, 7.95, 48.5, 61.1, 27.5]}]\n",
      "0_69 : Have [4102] tracks in the file\n",
      "number of tracks [4102]\n",
      "0_69 : Got the track properties\n",
      "Building the graph\n",
      "n_tracks 4102\n",
      "Sizes: 4102 4102 4102\n"
     ]
    },
    {
     "name": "stderr",
     "output_type": "stream",
     "text": [
      "100%|█████████▉| 4101/4102 [00:01<00:00, 2502.39it/s]\n"
     ]
    },
    {
     "name": "stdout",
     "output_type": "stream",
     "text": [
      "9\n",
      "key GNNtree_3672;1\n",
      "track_data [... 23.6, 38.1, 9.39, 9.79, 10.4, 14.6, 17.5, 15, 38.9, 44, 33.4, 70, 41.5, 184]}]\n",
      "0_70 : Have [3491] tracks in the file\n",
      "number of tracks [3491]\n",
      "0_70 : Got the track properties\n",
      "Building the graph\n",
      "n_tracks 3491\n",
      "Sizes: 3491 3491 3491\n"
     ]
    },
    {
     "name": "stderr",
     "output_type": "stream",
     "text": [
      "100%|█████████▉| 3490/3491 [00:01<00:00, 3482.21it/s]\n"
     ]
    },
    {
     "name": "stdout",
     "output_type": "stream",
     "text": [
      "10\n",
      "t = 1.335465908050537 ... Saving the pickle data for 0_70\n",
      "loading error 1\n",
      "loading error 2\n",
      "filennaame  ./dataset_check/0_70_edge_features.pkl\n",
      "key GNNtree_3670;1\n",
      "track_data [... 18.5, 20.5, 3.45, 16.9, 15.3, 15.6, 9.2, 12.8, 73.1, 189, 57.8, 68.4, 33.2]}]\n",
      "0_71 : Have [3749] tracks in the file\n",
      "number of tracks [3749]\n",
      "0_71 : Got the track properties\n",
      "Building the graph\n",
      "n_tracks 3749\n",
      "Sizes: 3749 3749 3749\n"
     ]
    },
    {
     "name": "stderr",
     "output_type": "stream",
     "text": [
      "100%|█████████▉| 3748/3749 [00:01<00:00, 2786.91it/s]\n"
     ]
    },
    {
     "name": "stdout",
     "output_type": "stream",
     "text": [
      "1\n",
      "key GNNtree_3674;1\n",
      "track_data [... 7.95, 70.9, 23.3, 75, 53.3, 25.1, 18.4, 44.6, 55.4, 24.7, 109, 193, 64.4]}]\n",
      "0_72 : Have [3026] tracks in the file\n",
      "number of tracks [3026]\n",
      "0_72 : Got the track properties\n",
      "Building the graph\n",
      "n_tracks 3026\n",
      "Sizes: 3026 3026 3026\n"
     ]
    },
    {
     "name": "stderr",
     "output_type": "stream",
     "text": [
      "100%|█████████▉| 3025/3026 [00:00<00:00, 3469.97it/s]\n"
     ]
    },
    {
     "name": "stdout",
     "output_type": "stream",
     "text": [
      "2\n",
      "key GNNtree_3673;1\n",
      "track_data [... 6.99, 38.5, 30.9, 20.3, 21.6, 10.6, 12.5, 7.83, 76.8, 104, 50.7, 40.9, 166]}]\n",
      "0_73 : Have [3546] tracks in the file\n",
      "number of tracks [3546]\n",
      "0_73 : Got the track properties\n",
      "Building the graph\n",
      "n_tracks 3546\n",
      "Sizes: 3546 3546 3546\n"
     ]
    },
    {
     "name": "stderr",
     "output_type": "stream",
     "text": [
      "100%|█████████▉| 3545/3546 [00:01<00:00, 2098.71it/s]\n"
     ]
    },
    {
     "name": "stdout",
     "output_type": "stream",
     "text": [
      "3\n",
      "key GNNtree_3675;1\n",
      "track_data [... 11.2, 28.9, 310, 25.9, 19.7, 34.7, 11.5, 21.6, 19.2, 9.31, 11.8, 80, 60.5]}]\n",
      "0_74 : Have [3635] tracks in the file\n",
      "number of tracks [3635]\n",
      "0_74 : Got the track properties\n",
      "Building the graph\n",
      "n_tracks 3635\n",
      "Sizes: 3635 3635 3635\n"
     ]
    },
    {
     "name": "stderr",
     "output_type": "stream",
     "text": [
      "100%|█████████▉| 3634/3635 [00:01<00:00, 2745.60it/s]\n"
     ]
    },
    {
     "name": "stdout",
     "output_type": "stream",
     "text": [
      "4\n",
      "key GNNtree_3677;1\n",
      "track_data [... 11.1, 22.6, 2.4, 16.3, 1.84, 19.7, 13.9, 13.8, 28.8, 38.4, 85.7, 98.9, 43.2]}]\n",
      "0_75 : Have [3621] tracks in the file\n",
      "number of tracks [3621]\n",
      "0_75 : Got the track properties\n",
      "Building the graph\n",
      "n_tracks 3621\n",
      "Sizes: 3621 3621 3621\n"
     ]
    },
    {
     "name": "stderr",
     "output_type": "stream",
     "text": [
      "100%|█████████▉| 3620/3621 [00:01<00:00, 1951.30it/s]\n"
     ]
    },
    {
     "name": "stdout",
     "output_type": "stream",
     "text": [
      "5\n",
      "key GNNtree_3678;1\n",
      "track_data [... 1.88, 16.3, 27.9, 31.1, 14.5, 37.8, 33, 12.9, 33.6, 28.9, 53, 88.1, 61.1]}]\n",
      "0_76 : Have [3074] tracks in the file\n",
      "number of tracks [3074]\n",
      "0_76 : Got the track properties\n",
      "Building the graph\n",
      "n_tracks 3074\n",
      "Sizes: 3074 3074 3074\n"
     ]
    },
    {
     "name": "stderr",
     "output_type": "stream",
     "text": [
      "100%|█████████▉| 3073/3074 [00:01<00:00, 2915.07it/s]\n"
     ]
    },
    {
     "name": "stdout",
     "output_type": "stream",
     "text": [
      "6\n",
      "key GNNtree_3676;1\n",
      "track_data [... 15.1, 6.98, 29.1, 12.4, 6.54, 6.38, 63.8, 58.5, 97.8, 61.1, 34.2, 15.7, 23]}]\n",
      "0_77 : Have [3641] tracks in the file\n",
      "number of tracks [3641]\n",
      "0_77 : Got the track properties\n",
      "Building the graph\n",
      "n_tracks 3641\n",
      "Sizes: 3641 3641 3641\n"
     ]
    },
    {
     "name": "stderr",
     "output_type": "stream",
     "text": [
      "100%|█████████▉| 3640/3641 [00:01<00:00, 2696.90it/s]\n"
     ]
    },
    {
     "name": "stdout",
     "output_type": "stream",
     "text": [
      "7\n",
      "key GNNtree_3679;1\n",
      "track_data [... 51.8, 26.4, 21, 13.9, 19, 65.2, 4.83, 43.2, 205, 192, 204, 39.8, 72.6, 37.5]}]\n",
      "0_78 : Have [3216] tracks in the file\n",
      "number of tracks [3216]\n",
      "0_78 : Got the track properties\n",
      "Building the graph\n",
      "n_tracks 3216\n",
      "Sizes: 3216 3216 3216\n"
     ]
    },
    {
     "name": "stderr",
     "output_type": "stream",
     "text": [
      "100%|█████████▉| 3215/3216 [00:01<00:00, 2155.03it/s]\n"
     ]
    },
    {
     "name": "stdout",
     "output_type": "stream",
     "text": [
      "8\n",
      "key GNNtree_3680;1\n",
      "track_data [... 28, 26.2, 31, 6.61, 220, 13.3, 31.7, 5.67, 75.6, 39.4, 72, 97.6, 58.2, 22.6]}]\n",
      "0_79 : Have [3550] tracks in the file\n",
      "number of tracks [3550]\n",
      "0_79 : Got the track properties\n",
      "Building the graph\n",
      "n_tracks 3550\n",
      "Sizes: 3550 3550 3550\n"
     ]
    },
    {
     "name": "stderr",
     "output_type": "stream",
     "text": [
      "100%|█████████▉| 3549/3550 [00:01<00:00, 3392.91it/s]\n"
     ]
    },
    {
     "name": "stdout",
     "output_type": "stream",
     "text": [
      "9\n",
      "key GNNtree_3682;1\n",
      "track_data [... 6.71, 38.2, 53.6, 21.7, 4.72, 29.3, 9.69, 8.31, 44.8, 11.3, 18.6, 102, 44.3]}]\n",
      "0_80 : Have [3298] tracks in the file\n",
      "number of tracks [3298]\n",
      "0_80 : Got the track properties\n",
      "Building the graph\n",
      "n_tracks 3298\n",
      "Sizes: 3298 3298 3298\n"
     ]
    },
    {
     "name": "stderr",
     "output_type": "stream",
     "text": [
      "100%|█████████▉| 3297/3298 [00:01<00:00, 3003.32it/s]\n"
     ]
    },
    {
     "name": "stdout",
     "output_type": "stream",
     "text": [
      "10\n",
      "t = 1.3521108627319336 ... Saving the pickle data for 0_80\n",
      "loading error 1\n",
      "loading error 2\n",
      "filennaame  ./dataset_check/0_80_edge_features.pkl\n",
      "key GNNtree_3681;1\n",
      "track_data [... 7.22, 15.1, 30.9, 51, 18.5, 15, 9.33, 72.8, 37.7, 83.9, 37, 42.3, 83.9, 100]}]\n",
      "0_81 : Have [3274] tracks in the file\n",
      "number of tracks [3274]\n",
      "0_81 : Got the track properties\n",
      "Building the graph\n",
      "n_tracks 3274\n",
      "Sizes: 3274 3274 3274\n"
     ]
    },
    {
     "name": "stderr",
     "output_type": "stream",
     "text": [
      "100%|█████████▉| 3273/3274 [00:01<00:00, 2668.17it/s]\n"
     ]
    },
    {
     "name": "stdout",
     "output_type": "stream",
     "text": [
      "1\n",
      "key GNNtree_3684;1\n",
      "track_data [... 27.6, 42.5, 46.2, 11, 19.8, 31.7, 107, 30.2, 77.8, 33.6, 50.8, 256, 122]}]\n",
      "0_82 : Have [3575] tracks in the file\n",
      "number of tracks [3575]\n",
      "0_82 : Got the track properties\n",
      "Building the graph\n",
      "n_tracks 3575\n",
      "Sizes: 3575 3575 3575\n"
     ]
    },
    {
     "name": "stderr",
     "output_type": "stream",
     "text": [
      "100%|█████████▉| 3574/3575 [00:01<00:00, 1973.64it/s]\n"
     ]
    },
    {
     "name": "stdout",
     "output_type": "stream",
     "text": [
      "2\n",
      "key GNNtree_3683;1\n",
      "track_data [... 49.8, 12.4, 22.3, 7.06, 21.6, 7.69, 17, 20.4, 34.8, 34.3, 12.7, 92.8, 35.9]}]\n",
      "0_83 : Have [3361] tracks in the file\n",
      "number of tracks [3361]\n",
      "0_83 : Got the track properties\n",
      "Building the graph\n",
      "n_tracks 3361\n",
      "Sizes: 3361 3361 3361\n"
     ]
    },
    {
     "name": "stderr",
     "output_type": "stream",
     "text": [
      "100%|█████████▉| 3360/3361 [00:01<00:00, 2018.18it/s]\n"
     ]
    },
    {
     "name": "stdout",
     "output_type": "stream",
     "text": [
      "3\n",
      "key GNNtree_3685;1\n",
      "track_data [... 18.3, 5.3, 38, 26.9, 56.7, 11.9, 163, 9.97, 27.8, 10.6, 57.8, 63.4, 75.6]}]\n",
      "0_84 : Have [2710] tracks in the file\n",
      "number of tracks [2710]\n",
      "0_84 : Got the track properties\n",
      "Building the graph\n",
      "n_tracks 2710\n",
      "Sizes: 2710 2710 2710\n"
     ]
    },
    {
     "name": "stderr",
     "output_type": "stream",
     "text": [
      "100%|█████████▉| 2709/2710 [00:00<00:00, 4800.05it/s]\n"
     ]
    },
    {
     "name": "stdout",
     "output_type": "stream",
     "text": [
      "4\n",
      "key GNNtree_3686;1\n",
      "track_data [... 15.5, 31.1, 19.1, 4.96, 51.4, 9.31, 34, 28.3, 60.8, 26.9, 50.4, 51.6, 67.4]}]\n",
      "0_85 : Have [3473] tracks in the file\n",
      "number of tracks [3473]\n",
      "0_85 : Got the track properties\n",
      "Building the graph\n",
      "n_tracks 3473\n",
      "Sizes: 3473 3473 3473\n"
     ]
    },
    {
     "name": "stderr",
     "output_type": "stream",
     "text": [
      "100%|█████████▉| 3472/3473 [00:01<00:00, 2189.54it/s]\n"
     ]
    },
    {
     "name": "stdout",
     "output_type": "stream",
     "text": [
      "5\n",
      "key GNNtree_3687;1\n",
      "track_data [... 5.53, 26, 34, 9.13, 15.1, 29.2, 52.4, 50.8, 110, 133, 49.1, 19.1, 41.5]}]\n",
      "0_86 : Have [2891] tracks in the file\n",
      "number of tracks [2891]\n",
      "0_86 : Got the track properties\n",
      "Building the graph\n",
      "n_tracks 2891\n",
      "Sizes: 2891 2891 2891\n"
     ]
    },
    {
     "name": "stderr",
     "output_type": "stream",
     "text": [
      "100%|█████████▉| 2890/2891 [00:00<00:00, 3070.97it/s]\n"
     ]
    },
    {
     "name": "stdout",
     "output_type": "stream",
     "text": [
      "6\n",
      "key GNNtree_3689;1\n",
      "track_data [... 16.7, 31.5, 20.7, 10.5, 57.3, 52.5, 75.4, 44.6, 32.3, 47.1, 34.6, 120, 93.1]}]\n",
      "0_87 : Have [3931] tracks in the file\n",
      "number of tracks [3931]\n",
      "0_87 : Got the track properties\n",
      "Building the graph\n",
      "n_tracks 3931\n",
      "Sizes: 3930 3930 3930\n"
     ]
    },
    {
     "name": "stderr",
     "output_type": "stream",
     "text": [
      "100%|█████████▉| 3929/3930 [00:02<00:00, 1889.43it/s]\n"
     ]
    },
    {
     "name": "stdout",
     "output_type": "stream",
     "text": [
      "7\n",
      "key GNNtree_3688;1\n",
      "track_data [... 4.85, 16.3, 11.2, 25.5, 33.1, 9.4, 18.9, 40.6, 67.4, 173, 68, 91.1, 56.3]}]\n",
      "0_88 : Have [3747] tracks in the file\n",
      "number of tracks [3747]\n",
      "0_88 : Got the track properties\n",
      "Building the graph\n",
      "n_tracks 3747\n",
      "Sizes: 3747 3747 3747\n"
     ]
    },
    {
     "name": "stderr",
     "output_type": "stream",
     "text": [
      "100%|█████████▉| 3746/3747 [00:01<00:00, 2503.83it/s]\n"
     ]
    },
    {
     "name": "stdout",
     "output_type": "stream",
     "text": [
      "8\n",
      "key GNNtree_3690;1\n",
      "track_data [... 12.4, 40.4, 5.66, 16.7, 48.8, 18.4, 7.3, 14.1, 4.2, 22.1, 23.7, 36.9, 32.5]}]\n",
      "0_89 : Have [2907] tracks in the file\n",
      "number of tracks [2907]\n",
      "0_89 : Got the track properties\n",
      "Building the graph\n",
      "n_tracks 2907\n",
      "Sizes: 2907 2907 2907\n"
     ]
    },
    {
     "name": "stderr",
     "output_type": "stream",
     "text": [
      "100%|█████████▉| 2906/2907 [00:01<00:00, 2644.55it/s]\n"
     ]
    },
    {
     "name": "stdout",
     "output_type": "stream",
     "text": [
      "9\n",
      "key GNNtree_3692;1\n",
      "track_data [... 10.8, 47.6, 22, 30.2, 36.9, 8.73, 16.1, 10.3, 14, 5.03, 14.1, 51.9, 197]}]\n",
      "0_90 : Have [3437] tracks in the file\n",
      "number of tracks [3437]\n",
      "0_90 : Got the track properties\n",
      "Building the graph\n",
      "n_tracks 3437\n",
      "Sizes: 3437 3437 3437\n"
     ]
    },
    {
     "name": "stderr",
     "output_type": "stream",
     "text": [
      "100%|█████████▉| 3436/3437 [00:01<00:00, 2738.06it/s]\n"
     ]
    },
    {
     "name": "stdout",
     "output_type": "stream",
     "text": [
      "10\n",
      "t = 1.6082055568695068 ... Saving the pickle data for 0_90\n",
      "loading error 1\n",
      "loading error 2\n",
      "filennaame  ./dataset_check/0_90_edge_features.pkl\n",
      "key GNNtree_3693;1\n",
      "track_data [... 7.97, 18.7, 34.4, 15.4, 28.2, 54.2, 5.74, 57.4, 135, 180, 39.1, 8.37, 53.5]}]\n",
      "0_91 : Have [3354] tracks in the file\n",
      "number of tracks [3354]\n",
      "0_91 : Got the track properties\n",
      "Building the graph\n",
      "n_tracks 3354\n",
      "Sizes: 3354 3354 3354\n"
     ]
    },
    {
     "name": "stderr",
     "output_type": "stream",
     "text": [
      "100%|█████████▉| 3353/3354 [00:01<00:00, 1902.63it/s]\n"
     ]
    },
    {
     "name": "stdout",
     "output_type": "stream",
     "text": [
      "1\n",
      "key GNNtree_3691;1\n",
      "track_data [... 11.7, 23.3, 44.4, 17.7, 16.3, 33.1, 13.4, 31.3, 11.3, 9.77, 49.7, 59.5]}]\n",
      "0_92 : Have [3875] tracks in the file\n",
      "number of tracks [3875]\n",
      "0_92 : Got the track properties\n",
      "Building the graph\n",
      "n_tracks 3875\n",
      "Sizes: 3875 3875 3875\n"
     ]
    },
    {
     "name": "stderr",
     "output_type": "stream",
     "text": [
      "100%|█████████▉| 3874/3875 [00:01<00:00, 2449.01it/s]\n"
     ]
    },
    {
     "name": "stdout",
     "output_type": "stream",
     "text": [
      "2\n",
      "key GNNtree_3694;1\n",
      "track_data [... 11.9, 31.2, 10.1, 27.3, 69.9, 33.3, 95, 90.4, 68.4, 27.4, 88.2, 32, 8.15]}]\n",
      "0_93 : Have [3954] tracks in the file\n",
      "number of tracks [3954]\n",
      "0_93 : Got the track properties\n",
      "Building the graph\n",
      "n_tracks 3954\n",
      "Sizes: 3954 3954 3954\n"
     ]
    },
    {
     "name": "stderr",
     "output_type": "stream",
     "text": [
      "100%|█████████▉| 3953/3954 [00:02<00:00, 1920.95it/s]\n"
     ]
    },
    {
     "name": "stdout",
     "output_type": "stream",
     "text": [
      "3\n",
      "key GNNtree_3695;1\n",
      "track_data [... 10.9, 54, 17, 27.7, 17, 3.03, 16.7, 90, 26.8, 81.5, 34.8, 52.2, 56.6, 95.4]}]\n",
      "0_94 : Have [3313] tracks in the file\n",
      "number of tracks [3313]\n",
      "0_94 : Got the track properties\n",
      "Building the graph\n",
      "n_tracks 3313\n",
      "Sizes: 3313 3313 3313\n"
     ]
    },
    {
     "name": "stderr",
     "output_type": "stream",
     "text": [
      "100%|█████████▉| 3312/3313 [00:01<00:00, 2675.03it/s]\n"
     ]
    },
    {
     "name": "stdout",
     "output_type": "stream",
     "text": [
      "4\n",
      "key GNNtree_3697;1\n",
      "track_data [... 6.29, 37.5, 40.6, 14.1, 14.2, 28.7, 61.8, 59.9, 25.7, 60.1, 52.3, 43.7]}]\n",
      "0_95 : Have [3149] tracks in the file\n",
      "number of tracks [3149]\n",
      "0_95 : Got the track properties\n",
      "Building the graph\n",
      "n_tracks 3149\n",
      "Sizes: 3149 3149 3149\n"
     ]
    },
    {
     "name": "stderr",
     "output_type": "stream",
     "text": [
      "100%|█████████▉| 3148/3149 [00:01<00:00, 2963.94it/s]\n"
     ]
    },
    {
     "name": "stdout",
     "output_type": "stream",
     "text": [
      "5\n",
      "key GNNtree_3696;1\n",
      "track_data [... 8.18, 29.8, 46.2, 3.95, 28.2, 6.47, 31.4, 14, 49.2, 24.5, 64.8, 202, 50]}]\n",
      "0_96 : Have [3062] tracks in the file\n",
      "number of tracks [3062]\n",
      "0_96 : Got the track properties\n",
      "Building the graph\n",
      "n_tracks 3062\n",
      "Sizes: 3062 3062 3062\n"
     ]
    },
    {
     "name": "stderr",
     "output_type": "stream",
     "text": [
      "100%|█████████▉| 3061/3062 [00:01<00:00, 2650.48it/s]\n"
     ]
    },
    {
     "name": "stdout",
     "output_type": "stream",
     "text": [
      "6\n",
      "key GNNtree_3698;1\n",
      "track_data [... 26.3, 9.29, 22.4, 69.4, 68.9, 121, 58.4, 53.4, 24.7, 34.1, 44.3, 26.2, 72]}]\n",
      "0_97 : Have [3186] tracks in the file\n",
      "number of tracks [3186]\n",
      "0_97 : Got the track properties\n",
      "Building the graph\n",
      "n_tracks 3186\n",
      "Sizes: 3186 3186 3186\n"
     ]
    },
    {
     "name": "stderr",
     "output_type": "stream",
     "text": [
      "100%|█████████▉| 3185/3186 [00:01<00:00, 1699.37it/s]\n"
     ]
    },
    {
     "name": "stdout",
     "output_type": "stream",
     "text": [
      "7\n",
      "key GNNtree_3699;1\n",
      "track_data [... 17.9, 23.5, 10.1, 20.5, 43.6, 15.6, 33.5, 12.1, 20.2, 9.04, 10.8, 7.5, 45.4]}]\n",
      "0_98 : Have [3253] tracks in the file\n",
      "number of tracks [3253]\n",
      "0_98 : Got the track properties\n",
      "Building the graph\n",
      "n_tracks 3253\n",
      "Sizes: 3253 3253 3253\n"
     ]
    },
    {
     "name": "stderr",
     "output_type": "stream",
     "text": [
      "100%|█████████▉| 3252/3253 [00:01<00:00, 2286.68it/s]\n"
     ]
    },
    {
     "name": "stdout",
     "output_type": "stream",
     "text": [
      "8\n",
      "key GNNtree_3700;1\n",
      "track_data [... 15.8, 67.7, 40.3, 24.8, 8, 39.2, 55.7, 67.6, 44.4, 78.2, 113, 85.6, 45.3]}]\n",
      "0_99 : Have [3475] tracks in the file\n",
      "number of tracks [3475]\n",
      "0_99 : Got the track properties\n",
      "Building the graph\n",
      "n_tracks 3475\n",
      "Sizes: 3475 3475 3475\n"
     ]
    },
    {
     "name": "stderr",
     "output_type": "stream",
     "text": [
      "100%|█████████▉| 3474/3475 [00:01<00:00, 1747.63it/s]\n"
     ]
    },
    {
     "name": "stdout",
     "output_type": "stream",
     "text": [
      "9\n",
      "t = 2.4131062030792236 ... Saving the pickle data for 0_99\n",
      "loading error 1\n",
      "loading error 2\n",
      "filennaame  ./dataset_check/0_99_edge_features.pkl\n"
     ]
    }
   ],
   "source": [
    "input_folder = \"/eos/user/j/jbabbar/SWAN_projects/files/check/\"  #MTD/QCDPU_25Sep\" #MTD/New_tuples4Sep/\"\n",
    "output_folder  = './dataset_check/' #dataset_tracks_PU_index_onlyZ_LV_TTbarPU_4Oct_Bidirection_th0p3/'\n",
    "offset = 0\n",
    "utils_ip.process_files(input_folder, output_folder, offset=offset)"
   ]
  },
  {
   "cell_type": "code",
   "execution_count": 3,
   "id": "4166a3d7",
   "metadata": {
    "scrolled": false
   },
   "outputs": [
    {
     "name": "stdout",
     "output_type": "stream",
     "text": [
      "Loading Pickle Files...\n"
     ]
    },
    {
     "name": "stderr",
     "output_type": "stream",
     "text": [
      "100%|██████████| 10/10 [00:13<00:00,  1.39s/it]\n"
     ]
    },
    {
     "name": "stdout",
     "output_type": "stream",
     "text": [
      "Loaded.\n",
      "lenght of nodes 10\n",
      "100 total events in dataset.\n",
      "Preparing training and validation split\n"
     ]
    },
    {
     "name": "stderr",
     "output_type": "stream",
     "text": [
      "100%|██████████| 90/90 [00:00<00:00, 4164.23it/s]\n"
     ]
    },
    {
     "name": "stdout",
     "output_type": "stream",
     "text": [
      "Preparing test split (data not preprocessed)\n"
     ]
    },
    {
     "name": "stderr",
     "output_type": "stream",
     "text": [
      "100%|██████████| 10/10 [00:00<00:00, 70730.25it/s]\n"
     ]
    },
    {
     "name": "stdout",
     "output_type": "stream",
     "text": [
      "Done: Saved the training datasets.\n"
     ]
    }
   ],
   "source": [
    "pkl_path = '././dataset_check/' #dataset_tracks_PU_index_onlyZ_LV_TTbarPU_4Oct_Bidirection_th0p3/'\n",
    "processed_dataset_path = \"./vertexing_dataset_check/\" #PU_index_onlyZ_LV_TTbarPU_4Oct_Bidirection_th0p3/\"\n",
    "utils_ip.mkdir_p(processed_dataset_path)\n",
    "utils_ip.save_dataset(pickle_data=pkl_path, output_location=processed_dataset_path, num_files=500)   \n"
   ]
  },
  {
   "cell_type": "code",
   "execution_count": 4,
   "id": "04179df9",
   "metadata": {},
   "outputs": [
    {
     "name": "stdout",
     "output_type": "stream",
     "text": [
      ">>> Loading datasets...\n",
      ">>> Loaded.\n"
     ]
    }
   ],
   "source": [
    "\n",
    "# Load the training and validation dataset\n",
    "dataset_location = \"./vertexing_dataset_check/\" #./vertexing_dataset_PU_index_onlyZ_LV_TTbarPU_4Oct_Bidirection_th0p3/\"\n",
    "\n",
    "print(\">>> Loading datasets...\")\n",
    "trainDataset = torch.load(f\"{dataset_location}/dataTraining.pt\")\n",
    "valDataset = torch.load(f\"{dataset_location}/dataVal.pt\")\n",
    "testList = torch.load(f\"{dataset_location}/dataTest.pt\")\n",
    "print(\">>> Loaded.\")"
   ]
  },
  {
   "cell_type": "code",
   "execution_count": 5,
   "id": "439b1795",
   "metadata": {},
   "outputs": [
    {
     "name": "stdout",
     "output_type": "stream",
     "text": [
      "130734\n",
      "699482\n"
     ]
    }
   ],
   "source": [
    "#To check, how many time edge_label is 1\n",
    "Tedge_labels = np.array(trainDataset[1].edge_label)\n",
    "#print(((np.array(valDataset[1].edge_label))==1))\n",
    "boolean_array = (Tedge_labels == 1)\n",
    "\n",
    "# Calculate the count of True values in the boolean array\n",
    "count_true_values = np.sum(boolean_array)\n",
    "print(count_true_values)\n",
    "print(len(np.array(trainDataset[1].edge_label)))"
   ]
  },
  {
   "cell_type": "code",
   "execution_count": 9,
   "id": "dde88dc2",
   "metadata": {},
   "outputs": [
    {
     "name": "stdout",
     "output_type": "stream",
     "text": [
      "11\n",
      "80\n"
     ]
    },
    {
     "name": "stderr",
     "output_type": "stream",
     "text": [
      "  0%|          | 0/11 [00:00<?, ?it/s]\n"
     ]
    },
    {
     "ename": "NameError",
     "evalue": "name 'utils' is not defined",
     "output_type": "error",
     "traceback": [
      "\u001b[0;31m---------------------------------------------------------------------------\u001b[0m",
      "\u001b[0;31mNameError\u001b[0m                                 Traceback (most recent call last)",
      "\u001b[0;32m/tmp/ipykernel_307/606736395.py\u001b[0m in \u001b[0;36m<module>\u001b[0;34m\u001b[0m\n\u001b[1;32m      5\u001b[0m \u001b[0mprint\u001b[0m\u001b[0;34m(\u001b[0m\u001b[0mlen\u001b[0m\u001b[0;34m(\u001b[0m\u001b[0mtrainDataset\u001b[0m\u001b[0;34m)\u001b[0m\u001b[0;34m)\u001b[0m\u001b[0;34m\u001b[0m\u001b[0;34m\u001b[0m\u001b[0m\n\u001b[1;32m      6\u001b[0m \u001b[0;32mfor\u001b[0m \u001b[0mev\u001b[0m \u001b[0;32min\u001b[0m \u001b[0mtqdm\u001b[0m\u001b[0;34m(\u001b[0m\u001b[0mrange\u001b[0m\u001b[0;34m(\u001b[0m\u001b[0mlen\u001b[0m\u001b[0;34m(\u001b[0m\u001b[0mtestList\u001b[0m\u001b[0;34m)\u001b[0m\u001b[0;34m)\u001b[0m\u001b[0;34m)\u001b[0m\u001b[0;34m:\u001b[0m\u001b[0;34m\u001b[0m\u001b[0;34m\u001b[0m\u001b[0m\n\u001b[0;32m----> 7\u001b[0;31m     \u001b[0mdata\u001b[0m \u001b[0;34m=\u001b[0m \u001b[0mutils\u001b[0m\u001b[0;34m.\u001b[0m\u001b[0mprepare_test_data\u001b[0m\u001b[0;34m(\u001b[0m\u001b[0mtestList\u001b[0m\u001b[0;34m,\u001b[0m \u001b[0mev\u001b[0m\u001b[0;34m)\u001b[0m\u001b[0;34m\u001b[0m\u001b[0;34m\u001b[0m\u001b[0m\n\u001b[0m\u001b[1;32m      8\u001b[0m     \u001b[0mtestDataset\u001b[0m\u001b[0;34m.\u001b[0m\u001b[0mappend\u001b[0m\u001b[0;34m(\u001b[0m\u001b[0mdata\u001b[0m\u001b[0;34m)\u001b[0m\u001b[0;34m\u001b[0m\u001b[0;34m\u001b[0m\u001b[0m\n",
      "\u001b[0;31mNameError\u001b[0m: name 'utils' is not defined"
     ]
    }
   ],
   "source": [
    "# load test dataset\n",
    "import utils_gnn\n",
    "testDataset = []\n",
    "print(len(testList))\n",
    "print(len(trainDataset))\n",
    "for ev in tqdm(range(len(testList))):\n",
    "    data = utils.prepare_test_data(testList, ev)\n",
    "    testDataset.append(data)"
   ]
  },
  {
   "cell_type": "code",
   "execution_count": 14,
   "id": "b4b16e86",
   "metadata": {},
   "outputs": [
    {
     "name": "stdout",
     "output_type": "stream",
     "text": [
      "Number of events in training dataset: 80\n",
      "Number of nodes: 274815\n",
      "Total edges in training : 46772206\n",
      "True edges : 8401146 - 0.17961834000303514\n",
      "False edges : 38371060 - 82.03816599969649 %\n",
      "Mean number of edges per event: 584652.575\n"
     ]
    }
   ],
   "source": [
    "# Imbalance in training\n",
    "train_edges_total, train_edges_true, train_edges_false, num_nodes = 0, 0, 0, 0\n",
    "num_ev =  len(trainDataset)\n",
    "print(f\"Number of events in training dataset: {num_ev}\")\n",
    "\n",
    "for tr_data in trainDataset:\n",
    "    num_nodes += tr_data.num_nodes\n",
    "    train_edges_total += len(tr_data.edge_index[0])\n",
    "    train_edges_true += tr_data.edge_label.sum().numpy()\n",
    "    train_edges_false += (1 - tr_data.edge_label).sum().numpy()\n",
    "        \n",
    "print(f\"Number of nodes: {num_nodes}\")\n",
    "print(f\"Total edges in training : {train_edges_total}\")\n",
    "print(f\"True edges : {train_edges_true} - {train_edges_true/train_edges_total*100} %\")\n",
    "print(f\"False edges : {train_edges_false} - {train_edges_false/train_edges_total*100} %\")\n",
    "print(f\"Mean number of edges per event: {train_edges_total/num_ev}\")"
   ]
  },
  {
   "cell_type": "code",
   "execution_count": 18,
   "id": "393f887f",
   "metadata": {},
   "outputs": [
    {
     "data": {
      "image/png": "[encoded data removed]",
      "text/plain": [
       "<Figure size 432x360 with 1 Axes>"
      ]
     },
     "metadata": {
      "needs_background": "light"
     },
     "output_type": "display_data"
    }
   ],
   "source": [
    "labels = ['True Edges', 'False Edges', 'Total Edges']\n",
    "counts = [train_edges_true, train_edges_false, train_edges_total]\n",
    "percentages = [\n",
    "    train_edges_true/train_edges_total*100,\n",
    "    train_edges_false/train_edges_total*100,\n",
    "    100.0  # Total edges is 100% by definition\n",
    "]\n",
    "\n",
    "# Create a bar plot for the raw counts of edges\n",
    "# Plot 1: Bar plot for the number of edges (raw counts)\n",
    "plt.figure(figsize=(6, 5))\n",
    "plt.bar(labels, counts, color=['green', 'orange', 'blue'])\n",
    "plt.title('Number of True, False, and Total Edges')\n",
    "plt.ylabel('Number of Edges')\n",
    "plt.savefig('a.png')  # Save the first plot as \"a.png\"\n",
    "plt.show()\n",
    "plt.close()  # Close the figure to avoid overlap with the next plot\n",
    "\n",
    "# Plot 2: Bar plot for the percentages of edges\n",
    "plt.figure(figsize=(6, 5))\n",
    "plt.bar(labels, percentages, color=['green', 'red', 'blue'])\n",
    "plt.title('Percentage of True, False, and Total Edges')\n",
    "plt.ylabel('Percentage (%)')\n",
    "plt.savefig('b.png')  # Save the second plot as \"b.png\"\n",
    "plt.close()  # Close the figure"
   ]
  },
  {
   "cell_type": "code",
   "execution_count": 17,
   "id": "22c58b59",
   "metadata": {},
   "outputs": [
    {
     "name": "stdout",
     "output_type": "stream",
     "text": [
      "[ True  True  True ...  True  True  True]\n"
     ]
    }
   ],
   "source": [
    "valDataset[0]\n",
    "print((np.array(trainDataset[6].edge_label))==1)"
   ]
  },
  {
   "cell_type": "code",
   "execution_count": 41,
   "id": "74e59897",
   "metadata": {},
   "outputs": [
    {
     "ename": "AttributeError",
     "evalue": "'GlobalStorage' object has no attribute 'e_PIDs'",
     "output_type": "error",
     "traceback": [
      "\u001b[0;31m---------------------------------------------------------------------------\u001b[0m",
      "\u001b[0;31mKeyError\u001b[0m                                  Traceback (most recent call last)",
      "\u001b[0;32m/cvmfs/sft.cern.ch/lcg/views/LCG_105a_cuda/x86_64-el9-gcc11-opt/lib/python3.9/site-packages/torch_geometric/data/storage.py\u001b[0m in \u001b[0;36m__getattr__\u001b[0;34m(self, key)\u001b[0m\n\u001b[1;32m     77\u001b[0m         \u001b[0;32mtry\u001b[0m\u001b[0;34m:\u001b[0m\u001b[0;34m\u001b[0m\u001b[0;34m\u001b[0m\u001b[0m\n\u001b[0;32m---> 78\u001b[0;31m             \u001b[0;32mreturn\u001b[0m \u001b[0mself\u001b[0m\u001b[0;34m[\u001b[0m\u001b[0mkey\u001b[0m\u001b[0;34m]\u001b[0m\u001b[0;34m\u001b[0m\u001b[0;34m\u001b[0m\u001b[0m\n\u001b[0m\u001b[1;32m     79\u001b[0m         \u001b[0;32mexcept\u001b[0m \u001b[0mKeyError\u001b[0m\u001b[0;34m:\u001b[0m\u001b[0;34m\u001b[0m\u001b[0;34m\u001b[0m\u001b[0m\n",
      "\u001b[0;32m/cvmfs/sft.cern.ch/lcg/views/LCG_105a_cuda/x86_64-el9-gcc11-opt/lib/python3.9/site-packages/torch_geometric/data/storage.py\u001b[0m in \u001b[0;36m__getitem__\u001b[0;34m(self, key)\u001b[0m\n\u001b[1;32m    102\u001b[0m     \u001b[0;32mdef\u001b[0m \u001b[0m__getitem__\u001b[0m\u001b[0;34m(\u001b[0m\u001b[0mself\u001b[0m\u001b[0;34m,\u001b[0m \u001b[0mkey\u001b[0m\u001b[0;34m:\u001b[0m \u001b[0mstr\u001b[0m\u001b[0;34m)\u001b[0m \u001b[0;34m->\u001b[0m \u001b[0mAny\u001b[0m\u001b[0;34m:\u001b[0m\u001b[0;34m\u001b[0m\u001b[0;34m\u001b[0m\u001b[0m\n\u001b[0;32m--> 103\u001b[0;31m         \u001b[0;32mreturn\u001b[0m \u001b[0mself\u001b[0m\u001b[0;34m.\u001b[0m\u001b[0m_mapping\u001b[0m\u001b[0;34m[\u001b[0m\u001b[0mkey\u001b[0m\u001b[0;34m]\u001b[0m\u001b[0;34m\u001b[0m\u001b[0;34m\u001b[0m\u001b[0m\n\u001b[0m\u001b[1;32m    104\u001b[0m \u001b[0;34m\u001b[0m\u001b[0m\n",
      "\u001b[0;31mKeyError\u001b[0m: 'e_PIDs'",
      "\nDuring handling of the above exception, another exception occurred:\n",
      "\u001b[0;31mAttributeError\u001b[0m                            Traceback (most recent call last)",
      "\u001b[0;32m/tmp/ipykernel_455/2135503638.py\u001b[0m in \u001b[0;36m<module>\u001b[0;34m\u001b[0m\n\u001b[1;32m      1\u001b[0m \u001b[0;31m# Have to remap the PIDs before using them\u001b[0m\u001b[0;34m\u001b[0m\u001b[0;34m\u001b[0m\u001b[0m\n\u001b[1;32m      2\u001b[0m \u001b[0;32mimport\u001b[0m \u001b[0mutils_gnn\u001b[0m\u001b[0;34m\u001b[0m\u001b[0;34m\u001b[0m\u001b[0m\n\u001b[0;32m----> 3\u001b[0;31m \u001b[0mutils_gnn\u001b[0m\u001b[0;34m.\u001b[0m\u001b[0mremap_PIDs\u001b[0m\u001b[0;34m(\u001b[0m\u001b[0mnp\u001b[0m\u001b[0;34m.\u001b[0m\u001b[0marray\u001b[0m\u001b[0;34m(\u001b[0m\u001b[0mtrainDataset\u001b[0m\u001b[0;34m[\u001b[0m\u001b[0;36m0\u001b[0m\u001b[0;34m]\u001b[0m\u001b[0;34m.\u001b[0m\u001b[0me_PIDs\u001b[0m\u001b[0;34m,\u001b[0m \u001b[0mdtype\u001b[0m\u001b[0;34m=\u001b[0m\u001b[0mnp\u001b[0m\u001b[0;34m.\u001b[0m\u001b[0mint\u001b[0m\u001b[0;34m)\u001b[0m\u001b[0;34m)\u001b[0m\u001b[0;34m\u001b[0m\u001b[0;34m\u001b[0m\u001b[0m\n\u001b[0m\u001b[1;32m      4\u001b[0m \u001b[0mprint\u001b[0m\u001b[0;34m(\u001b[0m\u001b[0;34m)\u001b[0m\u001b[0;34m\u001b[0m\u001b[0;34m\u001b[0m\u001b[0m\n",
      "\u001b[0;32m/cvmfs/sft.cern.ch/lcg/views/LCG_105a_cuda/x86_64-el9-gcc11-opt/lib/python3.9/site-packages/torch_geometric/data/data.py\u001b[0m in \u001b[0;36m__getattr__\u001b[0;34m(self, key)\u001b[0m\n\u001b[1;32m    439\u001b[0m                 \u001b[0;34m\"dataset, remove the 'processed/' directory in the dataset's \"\u001b[0m\u001b[0;34m\u001b[0m\u001b[0;34m\u001b[0m\u001b[0m\n\u001b[1;32m    440\u001b[0m                 \"root folder and try again.\")\n\u001b[0;32m--> 441\u001b[0;31m         \u001b[0;32mreturn\u001b[0m \u001b[0mgetattr\u001b[0m\u001b[0;34m(\u001b[0m\u001b[0mself\u001b[0m\u001b[0;34m.\u001b[0m\u001b[0m_store\u001b[0m\u001b[0;34m,\u001b[0m \u001b[0mkey\u001b[0m\u001b[0;34m)\u001b[0m\u001b[0;34m\u001b[0m\u001b[0;34m\u001b[0m\u001b[0m\n\u001b[0m\u001b[1;32m    442\u001b[0m \u001b[0;34m\u001b[0m\u001b[0m\n\u001b[1;32m    443\u001b[0m     \u001b[0;32mdef\u001b[0m \u001b[0m__setattr__\u001b[0m\u001b[0;34m(\u001b[0m\u001b[0mself\u001b[0m\u001b[0;34m,\u001b[0m \u001b[0mkey\u001b[0m\u001b[0;34m:\u001b[0m \u001b[0mstr\u001b[0m\u001b[0;34m,\u001b[0m \u001b[0mvalue\u001b[0m\u001b[0;34m:\u001b[0m \u001b[0mAny\u001b[0m\u001b[0;34m)\u001b[0m\u001b[0;34m:\u001b[0m\u001b[0;34m\u001b[0m\u001b[0;34m\u001b[0m\u001b[0m\n",
      "\u001b[0;32m/cvmfs/sft.cern.ch/lcg/views/LCG_105a_cuda/x86_64-el9-gcc11-opt/lib/python3.9/site-packages/torch_geometric/data/storage.py\u001b[0m in \u001b[0;36m__getattr__\u001b[0;34m(self, key)\u001b[0m\n\u001b[1;32m     78\u001b[0m             \u001b[0;32mreturn\u001b[0m \u001b[0mself\u001b[0m\u001b[0;34m[\u001b[0m\u001b[0mkey\u001b[0m\u001b[0;34m]\u001b[0m\u001b[0;34m\u001b[0m\u001b[0;34m\u001b[0m\u001b[0m\n\u001b[1;32m     79\u001b[0m         \u001b[0;32mexcept\u001b[0m \u001b[0mKeyError\u001b[0m\u001b[0;34m:\u001b[0m\u001b[0;34m\u001b[0m\u001b[0;34m\u001b[0m\u001b[0m\n\u001b[0;32m---> 80\u001b[0;31m             raise AttributeError(\n\u001b[0m\u001b[1;32m     81\u001b[0m                 f\"'{self.__class__.__name__}' object has no attribute '{key}'\")\n\u001b[1;32m     82\u001b[0m \u001b[0;34m\u001b[0m\u001b[0m\n",
      "\u001b[0;31mAttributeError\u001b[0m: 'GlobalStorage' object has no attribute 'e_PIDs'"
     ]
    }
   ],
   "source": [
    "# Have to remap the PIDs before using them\n",
    "import utils_gnn\n",
    "utils_gnn.remap_PIDs(np.array(trainDataset[0].e_PIDs, dtype=np.int))\n",
    "print()"
   ]
  },
  {
   "cell_type": "code",
   "execution_count": 51,
   "id": "3eb529c9",
   "metadata": {},
   "outputs": [
    {
     "name": "stdout",
     "output_type": "stream",
     "text": [
      "(38647, 2)\n",
      "(3142111, 2)\n"
     ]
    }
   ],
   "source": [
    "all_features = np.array(trainDataset[0].x.cpu())\n",
    "all_edge_features = np.array(trainDataset[0].edge_features.cpu())\n",
    "#print(all_features.shape())\n",
    "\n",
    "for j, ev in enumerate(trainDataset):\n",
    "    if j > 10:\n",
    "        break\n",
    "    all_features = np.vstack((all_features, ev.x.cpu()))   \n",
    "    all_edge_features = np.vstack((all_edge_features, ev.edge_features.cpu())) \n",
    "\n",
    "print(all_features.shape)\n",
    "print(all_edge_features.shape)"
   ]
  },
  {
   "cell_type": "code",
   "execution_count": 41,
   "id": "94a36a0d",
   "metadata": {},
   "outputs": [],
   "source": [
    "corr_matrix = np.corrcoef(all_features.T)\n",
    "corr_matrix_edge_f = np.corrcoef(all_edge_features.T)"
   ]
  },
  {
   "cell_type": "code",
   "execution_count": 14,
   "id": "80552460",
   "metadata": {},
   "outputs": [
    {
     "name": "stdout",
     "output_type": "stream",
     "text": [
      "(21, 21)\n"
     ]
    },
    {
     "data": {
      "image/png": "[encoded data removed]",
      "text/plain": [
       "<Figure size 864x720 with 2 Axes>"
      ]
     },
     "metadata": {
      "needs_background": "light"
     },
     "output_type": "display_data"
    },
    {
     "data": {
      "image/png": "[encoded data removed]",
      "text/plain": [
       "<Figure size 432x288 with 2 Axes>"
      ]
     },
     "metadata": {
      "needs_background": "light"
     },
     "output_type": "display_data"
    }
   ],
   "source": [
    "print(corr_matrix.shape)\n",
    "f = plt.figure(figsize=(12, 10))\n",
    "plt.matshow(corr_matrix, fignum=f.number, cmap='coolwarm', vmin=-1, vmax=1)\n",
    "\n",
    "\n",
    "node_feature_names = [\"pt\", \"eta\", \"phi\", \"z_pca\", \"t_pi\", \"t_k\",  \"t_p\", \"mva_quality\", \"btlMatchChi2\", \n",
    "                 \"btlMatchTimeChi2\", \"etlMatchChi2\", \"etlMatchTimeChi2\", \"pathLength\", \"npixBarrel\", \"npixEndcap\",\n",
    "                 \"mtdTime\", \"dz\", \"sigma_tmtd\", 'sigma_tof_p', 'trk_ndof', 'trk_chi2']\n",
    "#'sigma_tof_pi', 'sigma_tof_k', 'sigma_tof_p'\n",
    "\n",
    "plt.xticks(range(len(node_feature_names)), node_feature_names, fontsize=14, rotation=-45, ha=\"left\")\n",
    "plt.yticks(range(len(node_feature_names)), node_feature_names, fontsize=14)\n",
    "ax = plt.gca()\n",
    "ax.xaxis.set_ticks_position('bottom')\n",
    "cb = plt.colorbar(shrink=0.5)\n",
    "cb.ax.tick_params(labelsize=14)\n",
    "plt.title('Correlation Matrix of the Trackster Features', fontsize=16)\n",
    "\n",
    "f.savefig('export_PU_index/node_correlation_matrix.pdf', dpi=300,  bbox_inches='tight', transparent=True)\n",
    "f.savefig('export_PU_index/node_correlation_matrix.png', dpi=300, bbox_inches='tight', transparent=True)\n",
    "plt.show()\n",
    "\n",
    "edge_feature_names = [\"pt_diff\", \"z_diff\", \"dz_significanc\", \"t_pi_pi\", \"t_k_k\", \"t_p_p\", \"t_pi_k\", \"t_pi_p\", \"t_k_pi\", \"t_k_p\", \"t_p_k\", \"t_p_pi\"]\n",
    "f = plt.figure(figsize=(6, 4))\n",
    "plt.matshow(corr_matrix_edge_f, fignum=f.number, cmap='coolwarm', vmin=-1, vmax=1)\n",
    "plt.xticks(range(len(edge_feature_names)), edge_feature_names, fontsize=14, rotation=-45, ha=\"left\")\n",
    "plt.yticks(range(len(edge_feature_names)), edge_feature_names, fontsize=14)\n",
    "ax = plt.gca()\n",
    "ax.xaxis.set_ticks_position('bottom')\n",
    "cb = plt.colorbar(shrink=0.5)\n",
    "cb.ax.tick_params(labelsize=14)\n",
    "plt.title('Correlation Matrix of the Edge Features', fontsize=16)\n",
    "\n",
    "f.savefig('export_PU_index/edge_features_correlation_matrix.pdf', dpi=300, bbox_inches='tight', transparent=True)\n",
    "f.savefig('export_PU_index/edge_features_correlation_matrix.png', dpi=300,bbox_inches='tight', transparent=True)\n",
    "plt.show()"
   ]
  },
  {
   "cell_type": "code",
   "execution_count": 15,
   "id": "29e36af0",
   "metadata": {
    "scrolled": false
   },
   "outputs": [
    {
     "name": "stdout",
     "output_type": "stream",
     "text": [
      "Processing plot number 1\n",
      "Processing plot number 2\n",
      "Processing plot number 3\n",
      "Processing plot number 4\n",
      "Processing plot number 5\n",
      "Processing plot number 6\n",
      "Processing plot number 7\n",
      "Processing plot number 8\n",
      "Processing plot number 9\n",
      "Processing plot number 10\n",
      "Processing plot number 11\n",
      "Processing plot number 12\n",
      "Processing plot number 13\n",
      "Processing plot number 14\n",
      "Processing plot number 15\n",
      "Processing plot number 16\n",
      "Processing plot number 17\n",
      "Processing plot number 18\n",
      "Processing plot number 19\n",
      "Processing plot number 20\n",
      "Processing plot number 21\n"
     ]
    },
    {
     "name": "stderr",
     "output_type": "stream",
     "text": [
      "/tmp/ipykernel_702/3626223778.py:19: UserWarning: The figure layout has changed to tight\n",
      "  fig.tight_layout()\n"
     ]
    },
    {
     "data": {
      "image/png": "[encoded data removed]",
      "text/plain": [
       "<Figure size 1440x2520 with 22 Axes>"
      ]
     },
     "metadata": {
      "needs_background": "light"
     },
     "output_type": "display_data"
    }
   ],
   "source": [
    "import seaborn as sns\n",
    "\n",
    "start = 0\n",
    "stop = len(node_feature_names)\n",
    "scols = int(np.ceil(len(node_feature_names[start:stop])/2))\n",
    "srows = 2\n",
    "fig, axes = plt.subplots(scols, srows, figsize=(20, 35), constrained_layout=True)\n",
    "\n",
    "for i, col in enumerate(node_feature_names[start:stop], start=start):\n",
    "    print(f\"Processing plot number {i+1}\")\n",
    "    ax_col = int((i-start)%scols)\n",
    "    ax_row = int((i-start)/scols)\n",
    "\n",
    "    sns.histplot(all_features[:, i], ax=axes[ax_col, ax_row], kde=True, stat=\"density\", linewidth=0)\n",
    "    axes[ax_col, ax_row].set_title('Frequency distribution '+ col, fontsize=18)\n",
    "    axes[ax_col, ax_row].set_xlabel(col, fontsize=15)\n",
    "    axes[ax_col, ax_row].set_ylabel('Count', fontsize=15)\n",
    "    \n",
    "fig.tight_layout()\n",
    "plt.show()\n",
    "fig.savefig('export_PU_index/subplots_freq.pdf', dpi=300, bbox_inches='tight', transparent=True)"
   ]
  },
  {
   "cell_type": "code",
   "execution_count": 16,
   "id": "536570cf",
   "metadata": {},
   "outputs": [
    {
     "name": "stdout",
     "output_type": "stream",
     "text": [
      "Processing plot number 1\n",
      "Processing plot number 2\n",
      "Processing plot number 3\n",
      "Processing plot number 4\n",
      "Processing plot number 5\n",
      "Processing plot number 6\n",
      "Processing plot number 7\n",
      "Processing plot number 8\n",
      "Processing plot number 9\n",
      "Processing plot number 10\n",
      "Processing plot number 11\n",
      "Processing plot number 12\n"
     ]
    },
    {
     "name": "stderr",
     "output_type": "stream",
     "text": [
      "/tmp/ipykernel_702/2090061370.py:15: UserWarning: The figure layout has changed to tight\n",
      "  fig.tight_layout()\n"
     ]
    },
    {
     "data": {
      "image/png": "[encoded data removed]",
      "text/plain": [
       "<Figure size 1080x1080 with 12 Axes>"
      ]
     },
     "metadata": {
      "needs_background": "light"
     },
     "output_type": "display_data"
    }
   ],
   "source": [
    "scols = int(np.ceil(len(edge_feature_names)/2))\n",
    "srows = 2\n",
    "fig, axes = plt.subplots(scols, srows, figsize=(15, 15), constrained_layout=True)\n",
    "\n",
    "for i, col in enumerate(edge_feature_names):\n",
    "    print(f\"Processing plot number {i+1}\")\n",
    "    ax_col = int(i%scols)\n",
    "    ax_row = int(i/scols)\n",
    "\n",
    "    sns.histplot(all_edge_features[:, i], ax=axes[ax_col, ax_row], kde=True, stat=\"density\", linewidth=0)\n",
    "    axes[ax_col, ax_row].set_title('Frequency distribution '+ col, fontsize=18)\n",
    "    axes[ax_col, ax_row].set_xlabel(col, fontsize=15)\n",
    "    axes[ax_col, ax_row].set_ylabel('Count', fontsize=15)\n",
    "    \n",
    "fig.tight_layout()\n",
    "plt.show()\n",
    "fig.savefig('export_PU_index/subplots_freq_edgesFeatures.pdf', dpi=300, bbox_inches='tight', transparent=True)"
   ]
  },
  {
   "cell_type": "code",
   "execution_count": 62,
   "id": "9c82cb3a",
   "metadata": {},
   "outputs": [
    {
     "data": {
      "text/html": [
       "<div>\n",
       "<style scoped>\n",
       "    .dataframe tbody tr th:only-of-type {\n",
       "        vertical-align: middle;\n",
       "    }\n",
       "\n",
       "    .dataframe tbody tr th {\n",
       "        vertical-align: top;\n",
       "    }\n",
       "\n",
       "    .dataframe thead th {\n",
       "        text-align: right;\n",
       "    }\n",
       "</style>\n",
       "<table border=\"1\" class=\"dataframe\">\n",
       "  <thead>\n",
       "    <tr style=\"text-align: right;\">\n",
       "      <th></th>\n",
       "      <th>pt</th>\n",
       "      <th>eta</th>\n",
       "      <th>phi</th>\n",
       "      <th>z_pca</th>\n",
       "      <th>t_pi</th>\n",
       "      <th>t_k</th>\n",
       "      <th>t_p</th>\n",
       "      <th>mva_quality</th>\n",
       "      <th>btlMatchChi2</th>\n",
       "      <th>btlMatchTimeChi2</th>\n",
       "      <th>...</th>\n",
       "      <th>etlMatchTimeChi2</th>\n",
       "      <th>pathLength</th>\n",
       "      <th>npixBarrel</th>\n",
       "      <th>npixEndcap</th>\n",
       "      <th>mtdTime</th>\n",
       "      <th>dz</th>\n",
       "      <th>sigma_tmtd</th>\n",
       "      <th>sigma_tof_p</th>\n",
       "      <th>trk_ndof</th>\n",
       "      <th>trk_chi2</th>\n",
       "    </tr>\n",
       "  </thead>\n",
       "  <tbody>\n",
       "    <tr>\n",
       "      <th>count</th>\n",
       "      <td>630.000000</td>\n",
       "      <td>630.000000</td>\n",
       "      <td>630.000000</td>\n",
       "      <td>630.000000</td>\n",
       "      <td>630.000000</td>\n",
       "      <td>630.000000</td>\n",
       "      <td>630.000000</td>\n",
       "      <td>630.000000</td>\n",
       "      <td>630.000000</td>\n",
       "      <td>630.000000</td>\n",
       "      <td>...</td>\n",
       "      <td>630.000000</td>\n",
       "      <td>630.000000</td>\n",
       "      <td>630.000000</td>\n",
       "      <td>630.000000</td>\n",
       "      <td>630.000000</td>\n",
       "      <td>630.000000</td>\n",
       "      <td>630.000000</td>\n",
       "      <td>630.000000</td>\n",
       "      <td>630.000000</td>\n",
       "      <td>630.000000</td>\n",
       "    </tr>\n",
       "    <tr>\n",
       "      <th>mean</th>\n",
       "      <td>3.062335</td>\n",
       "      <td>-0.027358</td>\n",
       "      <td>0.067602</td>\n",
       "      <td>0.779517</td>\n",
       "      <td>0.025356</td>\n",
       "      <td>-0.141606</td>\n",
       "      <td>-0.560410</td>\n",
       "      <td>-0.024040</td>\n",
       "      <td>0.111437</td>\n",
       "      <td>-0.524119</td>\n",
       "      <td>...</td>\n",
       "      <td>-0.374585</td>\n",
       "      <td>144.984146</td>\n",
       "      <td>2.646032</td>\n",
       "      <td>2.596825</td>\n",
       "      <td>4.890600</td>\n",
       "      <td>0.029750</td>\n",
       "      <td>-0.398582</td>\n",
       "      <td>-0.407840</td>\n",
       "      <td>28.587301</td>\n",
       "      <td>31.746881</td>\n",
       "    </tr>\n",
       "    <tr>\n",
       "      <th>std</th>\n",
       "      <td>6.562905</td>\n",
       "      <td>1.440706</td>\n",
       "      <td>1.763676</td>\n",
       "      <td>1.489149</td>\n",
       "      <td>0.263134</td>\n",
       "      <td>0.400647</td>\n",
       "      <td>1.123186</td>\n",
       "      <td>0.969332</td>\n",
       "      <td>3.559108</td>\n",
       "      <td>0.941249</td>\n",
       "      <td>...</td>\n",
       "      <td>1.097365</td>\n",
       "      <td>137.844391</td>\n",
       "      <td>1.353360</td>\n",
       "      <td>3.121186</td>\n",
       "      <td>4.606360</td>\n",
       "      <td>0.040572</td>\n",
       "      <td>0.509550</td>\n",
       "      <td>0.501921</td>\n",
       "      <td>10.893085</td>\n",
       "      <td>19.117277</td>\n",
       "    </tr>\n",
       "    <tr>\n",
       "      <th>min</th>\n",
       "      <td>0.194636</td>\n",
       "      <td>-2.391483</td>\n",
       "      <td>-3.130420</td>\n",
       "      <td>-2.197568</td>\n",
       "      <td>-0.583213</td>\n",
       "      <td>-2.193075</td>\n",
       "      <td>-6.679304</td>\n",
       "      <td>-1.000000</td>\n",
       "      <td>-1.000000</td>\n",
       "      <td>-1.000000</td>\n",
       "      <td>...</td>\n",
       "      <td>-1.000000</td>\n",
       "      <td>-1.000000</td>\n",
       "      <td>0.000000</td>\n",
       "      <td>0.000000</td>\n",
       "      <td>0.000000</td>\n",
       "      <td>0.000811</td>\n",
       "      <td>-1.000000</td>\n",
       "      <td>-1.000000</td>\n",
       "      <td>5.000000</td>\n",
       "      <td>1.963857</td>\n",
       "    </tr>\n",
       "    <tr>\n",
       "      <th>25%</th>\n",
       "      <td>0.530910</td>\n",
       "      <td>-1.376234</td>\n",
       "      <td>-1.509780</td>\n",
       "      <td>-0.473261</td>\n",
       "      <td>-0.005382</td>\n",
       "      <td>-0.245875</td>\n",
       "      <td>-0.577616</td>\n",
       "      <td>-1.000000</td>\n",
       "      <td>-1.000000</td>\n",
       "      <td>-1.000000</td>\n",
       "      <td>...</td>\n",
       "      <td>-1.000000</td>\n",
       "      <td>-1.000000</td>\n",
       "      <td>1.000000</td>\n",
       "      <td>0.000000</td>\n",
       "      <td>0.000000</td>\n",
       "      <td>0.006175</td>\n",
       "      <td>-1.000000</td>\n",
       "      <td>-1.000000</td>\n",
       "      <td>23.000000</td>\n",
       "      <td>19.204391</td>\n",
       "    </tr>\n",
       "    <tr>\n",
       "      <th>50%</th>\n",
       "      <td>0.926494</td>\n",
       "      <td>-0.012561</td>\n",
       "      <td>0.214957</td>\n",
       "      <td>-0.207388</td>\n",
       "      <td>0.000000</td>\n",
       "      <td>0.000000</td>\n",
       "      <td>0.000000</td>\n",
       "      <td>0.501000</td>\n",
       "      <td>-1.000000</td>\n",
       "      <td>-1.000000</td>\n",
       "      <td>...</td>\n",
       "      <td>-1.000000</td>\n",
       "      <td>137.188644</td>\n",
       "      <td>3.000000</td>\n",
       "      <td>1.000000</td>\n",
       "      <td>4.614460</td>\n",
       "      <td>0.013698</td>\n",
       "      <td>0.027578</td>\n",
       "      <td>0.000377</td>\n",
       "      <td>29.000000</td>\n",
       "      <td>28.858942</td>\n",
       "    </tr>\n",
       "    <tr>\n",
       "      <th>75%</th>\n",
       "      <td>2.221689</td>\n",
       "      <td>1.260850</td>\n",
       "      <td>1.469333</td>\n",
       "      <td>1.723042</td>\n",
       "      <td>0.058386</td>\n",
       "      <td>0.000000</td>\n",
       "      <td>0.000000</td>\n",
       "      <td>0.962610</td>\n",
       "      <td>0.083594</td>\n",
       "      <td>0.001618</td>\n",
       "      <td>...</td>\n",
       "      <td>0.028822</td>\n",
       "      <td>308.476379</td>\n",
       "      <td>4.000000</td>\n",
       "      <td>5.000000</td>\n",
       "      <td>10.174736</td>\n",
       "      <td>0.035779</td>\n",
       "      <td>0.032402</td>\n",
       "      <td>0.012020</td>\n",
       "      <td>37.000000</td>\n",
       "      <td>40.335539</td>\n",
       "    </tr>\n",
       "    <tr>\n",
       "      <th>max</th>\n",
       "      <td>54.031158</td>\n",
       "      <td>2.395320</td>\n",
       "      <td>3.134442</td>\n",
       "      <td>4.520479</td>\n",
       "      <td>2.642703</td>\n",
       "      <td>1.928113</td>\n",
       "      <td>0.383235</td>\n",
       "      <td>0.990269</td>\n",
       "      <td>39.986370</td>\n",
       "      <td>4.265544</td>\n",
       "      <td>...</td>\n",
       "      <td>3.795927</td>\n",
       "      <td>402.481567</td>\n",
       "      <td>6.000000</td>\n",
       "      <td>13.000000</td>\n",
       "      <td>13.956142</td>\n",
       "      <td>0.263955</td>\n",
       "      <td>0.071448</td>\n",
       "      <td>0.101110</td>\n",
       "      <td>57.000000</td>\n",
       "      <td>212.679962</td>\n",
       "    </tr>\n",
       "  </tbody>\n",
       "</table>\n",
       "<p>8 rows × 21 columns</p>\n",
       "</div>"
      ],
      "text/plain": [
       "               pt         eta         phi       z_pca        t_pi         t_k  \\\n",
       "count  630.000000  630.000000  630.000000  630.000000  630.000000  630.000000   \n",
       "mean     3.062335   -0.027358    0.067602    0.779517    0.025356   -0.141606   \n",
       "std      6.562905    1.440706    1.763676    1.489149    0.263134    0.400647   \n",
       "min      0.194636   -2.391483   -3.130420   -2.197568   -0.583213   -2.193075   \n",
       "25%      0.530910   -1.376234   -1.509780   -0.473261   -0.005382   -0.245875   \n",
       "50%      0.926494   -0.012561    0.214957   -0.207388    0.000000    0.000000   \n",
       "75%      2.221689    1.260850    1.469333    1.723042    0.058386    0.000000   \n",
       "max     54.031158    2.395320    3.134442    4.520479    2.642703    1.928113   \n",
       "\n",
       "              t_p  mva_quality  btlMatchChi2  btlMatchTimeChi2  ...  \\\n",
       "count  630.000000   630.000000    630.000000        630.000000  ...   \n",
       "mean    -0.560410    -0.024040      0.111437         -0.524119  ...   \n",
       "std      1.123186     0.969332      3.559108          0.941249  ...   \n",
       "min     -6.679304    -1.000000     -1.000000         -1.000000  ...   \n",
       "25%     -0.577616    -1.000000     -1.000000         -1.000000  ...   \n",
       "50%      0.000000     0.501000     -1.000000         -1.000000  ...   \n",
       "75%      0.000000     0.962610      0.083594          0.001618  ...   \n",
       "max      0.383235     0.990269     39.986370          4.265544  ...   \n",
       "\n",
       "       etlMatchTimeChi2  pathLength  npixBarrel  npixEndcap     mtdTime  \\\n",
       "count        630.000000  630.000000  630.000000  630.000000  630.000000   \n",
       "mean          -0.374585  144.984146    2.646032    2.596825    4.890600   \n",
       "std            1.097365  137.844391    1.353360    3.121186    4.606360   \n",
       "min           -1.000000   -1.000000    0.000000    0.000000    0.000000   \n",
       "25%           -1.000000   -1.000000    1.000000    0.000000    0.000000   \n",
       "50%           -1.000000  137.188644    3.000000    1.000000    4.614460   \n",
       "75%            0.028822  308.476379    4.000000    5.000000   10.174736   \n",
       "max            3.795927  402.481567    6.000000   13.000000   13.956142   \n",
       "\n",
       "               dz  sigma_tmtd  sigma_tof_p    trk_ndof    trk_chi2  \n",
       "count  630.000000  630.000000   630.000000  630.000000  630.000000  \n",
       "mean     0.029750   -0.398582    -0.407840   28.587301   31.746881  \n",
       "std      0.040572    0.509550     0.501921   10.893085   19.117277  \n",
       "min      0.000811   -1.000000    -1.000000    5.000000    1.963857  \n",
       "25%      0.006175   -1.000000    -1.000000   23.000000   19.204391  \n",
       "50%      0.013698    0.027578     0.000377   29.000000   28.858942  \n",
       "75%      0.035779    0.032402     0.012020   37.000000   40.335539  \n",
       "max      0.263955    0.071448     0.101110   57.000000  212.679962  \n",
       "\n",
       "[8 rows x 21 columns]"
      ]
     },
     "execution_count": 62,
     "metadata": {},
     "output_type": "execute_result"
    }
   ],
   "source": [
    "import pandas as pd\n",
    "\n",
    "df = pd.DataFrame(all_features, columns = node_feature_names)\n",
    "df.describe()"
   ]
  },
  {
   "cell_type": "code",
   "execution_count": 32,
   "id": "103b9270",
   "metadata": {},
   "outputs": [
    {
     "data": {
      "text/html": [
       "<div>\n",
       "<style scoped>\n",
       "    .dataframe tbody tr th:only-of-type {\n",
       "        vertical-align: middle;\n",
       "    }\n",
       "\n",
       "    .dataframe tbody tr th {\n",
       "        vertical-align: top;\n",
       "    }\n",
       "\n",
       "    .dataframe thead th {\n",
       "        text-align: right;\n",
       "    }\n",
       "</style>\n",
       "<table border=\"1\" class=\"dataframe\">\n",
       "  <thead>\n",
       "    <tr style=\"text-align: right;\">\n",
       "      <th></th>\n",
       "      <th>pt_diff</th>\n",
       "      <th>z_diff</th>\n",
       "      <th>dz_significanc</th>\n",
       "      <th>t_pi_pi</th>\n",
       "      <th>t_k_k</th>\n",
       "      <th>t_p_p</th>\n",
       "      <th>t_pi_k</th>\n",
       "      <th>t_pi_p</th>\n",
       "      <th>t_k_pi</th>\n",
       "      <th>t_k_p</th>\n",
       "      <th>t_p_k</th>\n",
       "      <th>t_p_pi</th>\n",
       "    </tr>\n",
       "  </thead>\n",
       "  <tbody>\n",
       "    <tr>\n",
       "      <th>count</th>\n",
       "      <td>3.469092e+06</td>\n",
       "      <td>3.469092e+06</td>\n",
       "      <td>3.469092e+06</td>\n",
       "      <td>3.469092e+06</td>\n",
       "      <td>3.469092e+06</td>\n",
       "      <td>3.469092e+06</td>\n",
       "      <td>3.469092e+06</td>\n",
       "      <td>3.469092e+06</td>\n",
       "      <td>3.469092e+06</td>\n",
       "      <td>3.469092e+06</td>\n",
       "      <td>3.469092e+06</td>\n",
       "      <td>3.469092e+06</td>\n",
       "    </tr>\n",
       "    <tr>\n",
       "      <th>mean</th>\n",
       "      <td>6.640179e-01</td>\n",
       "      <td>1.277178e-01</td>\n",
       "      <td>-1.021481e-02</td>\n",
       "      <td>2.924480e-01</td>\n",
       "      <td>4.574605e-01</td>\n",
       "      <td>1.201127e+00</td>\n",
       "      <td>3.774866e-01</td>\n",
       "      <td>8.346578e-01</td>\n",
       "      <td>4.415153e-01</td>\n",
       "      <td>8.173793e-01</td>\n",
       "      <td>1.021964e+00</td>\n",
       "      <td>1.057133e+00</td>\n",
       "    </tr>\n",
       "    <tr>\n",
       "      <th>std</th>\n",
       "      <td>1.808679e+00</td>\n",
       "      <td>9.076782e-02</td>\n",
       "      <td>5.989006e+00</td>\n",
       "      <td>5.248403e-01</td>\n",
       "      <td>5.604644e-01</td>\n",
       "      <td>1.397338e+00</td>\n",
       "      <td>5.516723e-01</td>\n",
       "      <td>1.123434e+00</td>\n",
       "      <td>6.103347e-01</td>\n",
       "      <td>1.020571e+00</td>\n",
       "      <td>1.402108e+00</td>\n",
       "      <td>1.502164e+00</td>\n",
       "    </tr>\n",
       "    <tr>\n",
       "      <th>min</th>\n",
       "      <td>1.880581e-07</td>\n",
       "      <td>2.384186e-07</td>\n",
       "      <td>-1.375880e+02</td>\n",
       "      <td>0.000000e+00</td>\n",
       "      <td>0.000000e+00</td>\n",
       "      <td>0.000000e+00</td>\n",
       "      <td>0.000000e+00</td>\n",
       "      <td>0.000000e+00</td>\n",
       "      <td>0.000000e+00</td>\n",
       "      <td>0.000000e+00</td>\n",
       "      <td>0.000000e+00</td>\n",
       "      <td>0.000000e+00</td>\n",
       "    </tr>\n",
       "    <tr>\n",
       "      <th>25%</th>\n",
       "      <td>1.426509e-01</td>\n",
       "      <td>4.337406e-02</td>\n",
       "      <td>-1.752991e+00</td>\n",
       "      <td>2.292204e-02</td>\n",
       "      <td>4.391384e-02</td>\n",
       "      <td>1.053429e-01</td>\n",
       "      <td>3.298950e-02</td>\n",
       "      <td>5.465603e-02</td>\n",
       "      <td>3.376770e-02</td>\n",
       "      <td>7.331562e-02</td>\n",
       "      <td>6.169331e-02</td>\n",
       "      <td>4.364109e-02</td>\n",
       "    </tr>\n",
       "    <tr>\n",
       "      <th>50%</th>\n",
       "      <td>3.391048e-01</td>\n",
       "      <td>1.170236e-01</td>\n",
       "      <td>-1.064237e-02</td>\n",
       "      <td>1.370072e-01</td>\n",
       "      <td>2.757339e-01</td>\n",
       "      <td>7.089801e-01</td>\n",
       "      <td>2.022867e-01</td>\n",
       "      <td>3.809991e-01</td>\n",
       "      <td>2.110958e-01</td>\n",
       "      <td>4.773605e-01</td>\n",
       "      <td>4.163320e-01</td>\n",
       "      <td>3.119736e-01</td>\n",
       "    </tr>\n",
       "    <tr>\n",
       "      <th>75%</th>\n",
       "      <td>7.339715e-01</td>\n",
       "      <td>2.057890e-01</td>\n",
       "      <td>1.734243e+00</td>\n",
       "      <td>3.299742e-01</td>\n",
       "      <td>6.603622e-01</td>\n",
       "      <td>1.797350e+00</td>\n",
       "      <td>4.948730e-01</td>\n",
       "      <td>1.206360e+00</td>\n",
       "      <td>6.042271e-01</td>\n",
       "      <td>1.171080e+00</td>\n",
       "      <td>1.408056e+00</td>\n",
       "      <td>1.562474e+00</td>\n",
       "    </tr>\n",
       "    <tr>\n",
       "      <th>max</th>\n",
       "      <td>9.103748e+01</td>\n",
       "      <td>2.999995e-01</td>\n",
       "      <td>1.231643e+02</td>\n",
       "      <td>7.940213e+00</td>\n",
       "      <td>8.175604e+00</td>\n",
       "      <td>1.172642e+01</td>\n",
       "      <td>9.682741e+00</td>\n",
       "      <td>1.693681e+01</td>\n",
       "      <td>1.006243e+01</td>\n",
       "      <td>1.524208e+01</td>\n",
       "      <td>1.502707e+01</td>\n",
       "      <td>1.691389e+01</td>\n",
       "    </tr>\n",
       "  </tbody>\n",
       "</table>\n",
       "</div>"
      ],
      "text/plain": [
       "            pt_diff        z_diff  dz_significanc       t_pi_pi         t_k_k  \\\n",
       "count  3.469092e+06  3.469092e+06    3.469092e+06  3.469092e+06  3.469092e+06   \n",
       "mean   6.640179e-01  1.277178e-01   -1.021481e-02  2.924480e-01  4.574605e-01   \n",
       "std    1.808679e+00  9.076782e-02    5.989006e+00  5.248403e-01  5.604644e-01   \n",
       "min    1.880581e-07  2.384186e-07   -1.375880e+02  0.000000e+00  0.000000e+00   \n",
       "25%    1.426509e-01  4.337406e-02   -1.752991e+00  2.292204e-02  4.391384e-02   \n",
       "50%    3.391048e-01  1.170236e-01   -1.064237e-02  1.370072e-01  2.757339e-01   \n",
       "75%    7.339715e-01  2.057890e-01    1.734243e+00  3.299742e-01  6.603622e-01   \n",
       "max    9.103748e+01  2.999995e-01    1.231643e+02  7.940213e+00  8.175604e+00   \n",
       "\n",
       "              t_p_p        t_pi_k        t_pi_p        t_k_pi         t_k_p  \\\n",
       "count  3.469092e+06  3.469092e+06  3.469092e+06  3.469092e+06  3.469092e+06   \n",
       "mean   1.201127e+00  3.774866e-01  8.346578e-01  4.415153e-01  8.173793e-01   \n",
       "std    1.397338e+00  5.516723e-01  1.123434e+00  6.103347e-01  1.020571e+00   \n",
       "min    0.000000e+00  0.000000e+00  0.000000e+00  0.000000e+00  0.000000e+00   \n",
       "25%    1.053429e-01  3.298950e-02  5.465603e-02  3.376770e-02  7.331562e-02   \n",
       "50%    7.089801e-01  2.022867e-01  3.809991e-01  2.110958e-01  4.773605e-01   \n",
       "75%    1.797350e+00  4.948730e-01  1.206360e+00  6.042271e-01  1.171080e+00   \n",
       "max    1.172642e+01  9.682741e+00  1.693681e+01  1.006243e+01  1.524208e+01   \n",
       "\n",
       "              t_p_k        t_p_pi  \n",
       "count  3.469092e+06  3.469092e+06  \n",
       "mean   1.021964e+00  1.057133e+00  \n",
       "std    1.402108e+00  1.502164e+00  \n",
       "min    0.000000e+00  0.000000e+00  \n",
       "25%    6.169331e-02  4.364109e-02  \n",
       "50%    4.163320e-01  3.119736e-01  \n",
       "75%    1.408056e+00  1.562474e+00  \n",
       "max    1.502707e+01  1.691389e+01  "
      ]
     },
     "execution_count": 32,
     "metadata": {},
     "output_type": "execute_result"
    }
   ],
   "source": [
    "df = pd.DataFrame(all_edge_features, columns = edge_feature_names)\n",
    "df.describe()"
   ]
  },
  {
   "cell_type": "code",
   "execution_count": null,
   "id": "cf6a1baf",
   "metadata": {},
   "outputs": [],
   "source": []
  }
 ],
 "metadata": {
  "@webio": {
   "lastCommId": null,
   "lastKernelId": null
  },
  "kernelspec": {
   "display_name": "Python 3",
   "language": "python",
   "name": "python3"
  },
  "language_info": {
   "codemirror_mode": {
    "name": "ipython",
    "version": 3
   },
   "file_extension": ".py",
   "mimetype": "text/x-python",
   "name": "python",
   "nbconvert_exporter": "python",
   "pygments_lexer": "ipython3",
   "version": "3.9.12"
  }
 },
 "nbformat": 4,
 "nbformat_minor": 5
}
